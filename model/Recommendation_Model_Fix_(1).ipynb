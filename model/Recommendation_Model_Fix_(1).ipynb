{
  "cells": [
    {
      "cell_type": "code",
      "execution_count": 1,
      "id": "33535f2e",
      "metadata": {
        "id": "33535f2e"
      },
      "outputs": [],
      "source": [
        "#import library\n",
        "\n",
        "#for data processing\n",
        "import pandas as pd\n",
        "import numpy as np\n",
        "from zipfile import ZipFile\n",
        "from pathlib import Path\n",
        "\n",
        "#for data visualization\n",
        "import seaborn as sns\n",
        "import matplotlib.pyplot as plt\n",
        "\n",
        "%matplotlib inline\n",
        "sns.set_palette('Set1')\n",
        "sns.set()\n",
        "\n",
        "#for modelling\n",
        "import tensorflow as tf\n",
        "from tensorflow import keras\n",
        "from tensorflow.keras import layers\n",
        "\n",
        "#removing warning when plotting seaborn\n",
        "import warnings\n",
        "warnings.filterwarnings('ignore')\n",
        "\n",
        "#for uploud file\n",
        "import os"
      ]
    },
    {
      "cell_type": "code",
      "execution_count": 26,
      "id": "0a92247f",
      "metadata": {
        "id": "0a92247f"
      },
      "outputs": [],
      "source": [
        "#data preparation\n",
        "\n",
        "#saving each dataset into variable\n",
        "rate = pd.read_csv('tourism_rating(1).csv')\n",
        "place = pd.read_csv('tourism_with_id(1).csv', encoding=\"ISO-8859-1\", error_bad_lines=False)\n",
        "user = pd.read_csv('user.csv')\n"
      ]
    },
    {
      "cell_type": "code",
      "execution_count": null,
      "id": "dab940c8",
      "metadata": {
        "id": "dab940c8"
      },
      "outputs": [],
      "source": [
        "# DATA PLACE"
      ]
    },
    {
      "cell_type": "code",
      "execution_count": 27,
      "id": "645a410b",
      "metadata": {
        "scrolled": true,
        "colab": {
          "base_uri": "https://localhost:8080/",
          "height": 406
        },
        "id": "645a410b",
        "outputId": "92aa62f8-4a63-4bb8-d112-e3f515b62f4e"
      },
      "outputs": [
        {
          "output_type": "execute_result",
          "data": {
            "text/plain": [
              "   Place_Id             Place_Name  \\\n",
              "0         1           Pantai Nampu   \n",
              "1         2   Pantai Pulau Panjang   \n",
              "2         3       Pantai Bandengan   \n",
              "3         4  Pantai Karang Bolong    \n",
              "4         5          Pantai Bopong   \n",
              "\n",
              "                                         Description       Category      City  \\\n",
              "0  Pantai Nampu adalah objek wisata pantai yang b...  Wisata Bahari  Wonogiri   \n",
              "1  Pulau Panjang menjadi salah satu tempat wisata...  Wisata Bahari    Jepara   \n",
              "2  Pantai Tirto Samudro atau Pantai Klein Scheven...  Wisata Bahari    Jepara   \n",
              "3  Karangbolong Pada awalnya, pantai yang berada ...  Wisata Bahari   Kebumen   \n",
              "4  Pantai Bopong menjadi tempat piknik di Kebumen...  Wisata Bahari   Kebumen   \n",
              "\n",
              "   Price  Rating  Time_Minutes                             Coordinate  \\\n",
              "0   5000     4.5           129    {'lat': -8.19960, 'lng': 110.90042}   \n",
              "1   5000     4.5            15    {'lat': -5.51725, 'lng': 106.52147}   \n",
              "2  10000     4.4            20    {'lat': -6.55406, 'lng': 110.64872}   \n",
              "3  15000     4.3            30  {'lat': -7.758035, 'lng': 109.467794}   \n",
              "4   5000     4.1            45    {'lat': -7.76296, 'lng': 109.51781}   \n",
              "\n",
              "          Lat         Long  Unnamed: 11  Unnamed: 12  \n",
              "0  -8,199,060  110,900,042          NaN            1  \n",
              "1  -5,517,025  106,521,047          NaN            2  \n",
              "2  -6,554,006  110,648,072          NaN            3  \n",
              "3  -7,758,035  109,467,794          NaN            4  \n",
              "4  -7,762,096  109,517,081          NaN            5  "
            ],
            "text/html": [
              "\n",
              "  <div id=\"df-b6f63973-062b-4a87-a3db-e0c225ea33b1\">\n",
              "    <div class=\"colab-df-container\">\n",
              "      <div>\n",
              "<style scoped>\n",
              "    .dataframe tbody tr th:only-of-type {\n",
              "        vertical-align: middle;\n",
              "    }\n",
              "\n",
              "    .dataframe tbody tr th {\n",
              "        vertical-align: top;\n",
              "    }\n",
              "\n",
              "    .dataframe thead th {\n",
              "        text-align: right;\n",
              "    }\n",
              "</style>\n",
              "<table border=\"1\" class=\"dataframe\">\n",
              "  <thead>\n",
              "    <tr style=\"text-align: right;\">\n",
              "      <th></th>\n",
              "      <th>Place_Id</th>\n",
              "      <th>Place_Name</th>\n",
              "      <th>Description</th>\n",
              "      <th>Category</th>\n",
              "      <th>City</th>\n",
              "      <th>Price</th>\n",
              "      <th>Rating</th>\n",
              "      <th>Time_Minutes</th>\n",
              "      <th>Coordinate</th>\n",
              "      <th>Lat</th>\n",
              "      <th>Long</th>\n",
              "      <th>Unnamed: 11</th>\n",
              "      <th>Unnamed: 12</th>\n",
              "    </tr>\n",
              "  </thead>\n",
              "  <tbody>\n",
              "    <tr>\n",
              "      <th>0</th>\n",
              "      <td>1</td>\n",
              "      <td>Pantai Nampu</td>\n",
              "      <td>Pantai Nampu adalah objek wisata pantai yang b...</td>\n",
              "      <td>Wisata Bahari</td>\n",
              "      <td>Wonogiri</td>\n",
              "      <td>5000</td>\n",
              "      <td>4.5</td>\n",
              "      <td>129</td>\n",
              "      <td>{'lat': -8.19960, 'lng': 110.90042}</td>\n",
              "      <td>-8,199,060</td>\n",
              "      <td>110,900,042</td>\n",
              "      <td>NaN</td>\n",
              "      <td>1</td>\n",
              "    </tr>\n",
              "    <tr>\n",
              "      <th>1</th>\n",
              "      <td>2</td>\n",
              "      <td>Pantai Pulau Panjang</td>\n",
              "      <td>Pulau Panjang menjadi salah satu tempat wisata...</td>\n",
              "      <td>Wisata Bahari</td>\n",
              "      <td>Jepara</td>\n",
              "      <td>5000</td>\n",
              "      <td>4.5</td>\n",
              "      <td>15</td>\n",
              "      <td>{'lat': -5.51725, 'lng': 106.52147}</td>\n",
              "      <td>-5,517,025</td>\n",
              "      <td>106,521,047</td>\n",
              "      <td>NaN</td>\n",
              "      <td>2</td>\n",
              "    </tr>\n",
              "    <tr>\n",
              "      <th>2</th>\n",
              "      <td>3</td>\n",
              "      <td>Pantai Bandengan</td>\n",
              "      <td>Pantai Tirto Samudro atau Pantai Klein Scheven...</td>\n",
              "      <td>Wisata Bahari</td>\n",
              "      <td>Jepara</td>\n",
              "      <td>10000</td>\n",
              "      <td>4.4</td>\n",
              "      <td>20</td>\n",
              "      <td>{'lat': -6.55406, 'lng': 110.64872}</td>\n",
              "      <td>-6,554,006</td>\n",
              "      <td>110,648,072</td>\n",
              "      <td>NaN</td>\n",
              "      <td>3</td>\n",
              "    </tr>\n",
              "    <tr>\n",
              "      <th>3</th>\n",
              "      <td>4</td>\n",
              "      <td>Pantai Karang Bolong</td>\n",
              "      <td>Karangbolong Pada awalnya, pantai yang berada ...</td>\n",
              "      <td>Wisata Bahari</td>\n",
              "      <td>Kebumen</td>\n",
              "      <td>15000</td>\n",
              "      <td>4.3</td>\n",
              "      <td>30</td>\n",
              "      <td>{'lat': -7.758035, 'lng': 109.467794}</td>\n",
              "      <td>-7,758,035</td>\n",
              "      <td>109,467,794</td>\n",
              "      <td>NaN</td>\n",
              "      <td>4</td>\n",
              "    </tr>\n",
              "    <tr>\n",
              "      <th>4</th>\n",
              "      <td>5</td>\n",
              "      <td>Pantai Bopong</td>\n",
              "      <td>Pantai Bopong menjadi tempat piknik di Kebumen...</td>\n",
              "      <td>Wisata Bahari</td>\n",
              "      <td>Kebumen</td>\n",
              "      <td>5000</td>\n",
              "      <td>4.1</td>\n",
              "      <td>45</td>\n",
              "      <td>{'lat': -7.76296, 'lng': 109.51781}</td>\n",
              "      <td>-7,762,096</td>\n",
              "      <td>109,517,081</td>\n",
              "      <td>NaN</td>\n",
              "      <td>5</td>\n",
              "    </tr>\n",
              "  </tbody>\n",
              "</table>\n",
              "</div>\n",
              "      <button class=\"colab-df-convert\" onclick=\"convertToInteractive('df-b6f63973-062b-4a87-a3db-e0c225ea33b1')\"\n",
              "              title=\"Convert this dataframe to an interactive table.\"\n",
              "              style=\"display:none;\">\n",
              "        \n",
              "  <svg xmlns=\"http://www.w3.org/2000/svg\" height=\"24px\"viewBox=\"0 0 24 24\"\n",
              "       width=\"24px\">\n",
              "    <path d=\"M0 0h24v24H0V0z\" fill=\"none\"/>\n",
              "    <path d=\"M18.56 5.44l.94 2.06.94-2.06 2.06-.94-2.06-.94-.94-2.06-.94 2.06-2.06.94zm-11 1L8.5 8.5l.94-2.06 2.06-.94-2.06-.94L8.5 2.5l-.94 2.06-2.06.94zm10 10l.94 2.06.94-2.06 2.06-.94-2.06-.94-.94-2.06-.94 2.06-2.06.94z\"/><path d=\"M17.41 7.96l-1.37-1.37c-.4-.4-.92-.59-1.43-.59-.52 0-1.04.2-1.43.59L10.3 9.45l-7.72 7.72c-.78.78-.78 2.05 0 2.83L4 21.41c.39.39.9.59 1.41.59.51 0 1.02-.2 1.41-.59l7.78-7.78 2.81-2.81c.8-.78.8-2.07 0-2.86zM5.41 20L4 18.59l7.72-7.72 1.47 1.35L5.41 20z\"/>\n",
              "  </svg>\n",
              "      </button>\n",
              "      \n",
              "  <style>\n",
              "    .colab-df-container {\n",
              "      display:flex;\n",
              "      flex-wrap:wrap;\n",
              "      gap: 12px;\n",
              "    }\n",
              "\n",
              "    .colab-df-convert {\n",
              "      background-color: #E8F0FE;\n",
              "      border: none;\n",
              "      border-radius: 50%;\n",
              "      cursor: pointer;\n",
              "      display: none;\n",
              "      fill: #1967D2;\n",
              "      height: 32px;\n",
              "      padding: 0 0 0 0;\n",
              "      width: 32px;\n",
              "    }\n",
              "\n",
              "    .colab-df-convert:hover {\n",
              "      background-color: #E2EBFA;\n",
              "      box-shadow: 0px 1px 2px rgba(60, 64, 67, 0.3), 0px 1px 3px 1px rgba(60, 64, 67, 0.15);\n",
              "      fill: #174EA6;\n",
              "    }\n",
              "\n",
              "    [theme=dark] .colab-df-convert {\n",
              "      background-color: #3B4455;\n",
              "      fill: #D2E3FC;\n",
              "    }\n",
              "\n",
              "    [theme=dark] .colab-df-convert:hover {\n",
              "      background-color: #434B5C;\n",
              "      box-shadow: 0px 1px 3px 1px rgba(0, 0, 0, 0.15);\n",
              "      filter: drop-shadow(0px 1px 2px rgba(0, 0, 0, 0.3));\n",
              "      fill: #FFFFFF;\n",
              "    }\n",
              "  </style>\n",
              "\n",
              "      <script>\n",
              "        const buttonEl =\n",
              "          document.querySelector('#df-b6f63973-062b-4a87-a3db-e0c225ea33b1 button.colab-df-convert');\n",
              "        buttonEl.style.display =\n",
              "          google.colab.kernel.accessAllowed ? 'block' : 'none';\n",
              "\n",
              "        async function convertToInteractive(key) {\n",
              "          const element = document.querySelector('#df-b6f63973-062b-4a87-a3db-e0c225ea33b1');\n",
              "          const dataTable =\n",
              "            await google.colab.kernel.invokeFunction('convertToInteractive',\n",
              "                                                     [key], {});\n",
              "          if (!dataTable) return;\n",
              "\n",
              "          const docLinkHtml = 'Like what you see? Visit the ' +\n",
              "            '<a target=\"_blank\" href=https://colab.research.google.com/notebooks/data_table.ipynb>data table notebook</a>'\n",
              "            + ' to learn more about interactive tables.';\n",
              "          element.innerHTML = '';\n",
              "          dataTable['output_type'] = 'display_data';\n",
              "          await google.colab.output.renderOutput(dataTable, element);\n",
              "          const docLink = document.createElement('div');\n",
              "          docLink.innerHTML = docLinkHtml;\n",
              "          element.appendChild(docLink);\n",
              "        }\n",
              "      </script>\n",
              "    </div>\n",
              "  </div>\n",
              "  "
            ]
          },
          "metadata": {},
          "execution_count": 27
        }
      ],
      "source": [
        "#showing data place\n",
        "place.head(5)"
      ]
    },
    {
      "cell_type": "code",
      "execution_count": 28,
      "id": "59ed9365",
      "metadata": {
        "scrolled": true,
        "colab": {
          "base_uri": "https://localhost:8080/",
          "height": 337
        },
        "id": "59ed9365",
        "outputId": "adbe1a94-0197-4a81-844e-075234506630"
      },
      "outputs": [
        {
          "output_type": "execute_result",
          "data": {
            "text/plain": [
              "   Place_Id             Place_Name  \\\n",
              "0         1           Pantai Nampu   \n",
              "1         2   Pantai Pulau Panjang   \n",
              "2         3       Pantai Bandengan   \n",
              "3         4  Pantai Karang Bolong    \n",
              "4         5          Pantai Bopong   \n",
              "\n",
              "                                         Description       Category      City  \\\n",
              "0  Pantai Nampu adalah objek wisata pantai yang b...  Wisata Bahari  Wonogiri   \n",
              "1  Pulau Panjang menjadi salah satu tempat wisata...  Wisata Bahari    Jepara   \n",
              "2  Pantai Tirto Samudro atau Pantai Klein Scheven...  Wisata Bahari    Jepara   \n",
              "3  Karangbolong Pada awalnya, pantai yang berada ...  Wisata Bahari   Kebumen   \n",
              "4  Pantai Bopong menjadi tempat piknik di Kebumen...  Wisata Bahari   Kebumen   \n",
              "\n",
              "   Price  Rating  Time_Minutes                             Coordinate  \\\n",
              "0   5000     4.5           129    {'lat': -8.19960, 'lng': 110.90042}   \n",
              "1   5000     4.5            15    {'lat': -5.51725, 'lng': 106.52147}   \n",
              "2  10000     4.4            20    {'lat': -6.55406, 'lng': 110.64872}   \n",
              "3  15000     4.3            30  {'lat': -7.758035, 'lng': 109.467794}   \n",
              "4   5000     4.1            45    {'lat': -7.76296, 'lng': 109.51781}   \n",
              "\n",
              "          Lat         Long  \n",
              "0  -8,199,060  110,900,042  \n",
              "1  -5,517,025  106,521,047  \n",
              "2  -6,554,006  110,648,072  \n",
              "3  -7,758,035  109,467,794  \n",
              "4  -7,762,096  109,517,081  "
            ],
            "text/html": [
              "\n",
              "  <div id=\"df-d83a46c2-24e6-4b14-baa6-f1936b662a2b\">\n",
              "    <div class=\"colab-df-container\">\n",
              "      <div>\n",
              "<style scoped>\n",
              "    .dataframe tbody tr th:only-of-type {\n",
              "        vertical-align: middle;\n",
              "    }\n",
              "\n",
              "    .dataframe tbody tr th {\n",
              "        vertical-align: top;\n",
              "    }\n",
              "\n",
              "    .dataframe thead th {\n",
              "        text-align: right;\n",
              "    }\n",
              "</style>\n",
              "<table border=\"1\" class=\"dataframe\">\n",
              "  <thead>\n",
              "    <tr style=\"text-align: right;\">\n",
              "      <th></th>\n",
              "      <th>Place_Id</th>\n",
              "      <th>Place_Name</th>\n",
              "      <th>Description</th>\n",
              "      <th>Category</th>\n",
              "      <th>City</th>\n",
              "      <th>Price</th>\n",
              "      <th>Rating</th>\n",
              "      <th>Time_Minutes</th>\n",
              "      <th>Coordinate</th>\n",
              "      <th>Lat</th>\n",
              "      <th>Long</th>\n",
              "    </tr>\n",
              "  </thead>\n",
              "  <tbody>\n",
              "    <tr>\n",
              "      <th>0</th>\n",
              "      <td>1</td>\n",
              "      <td>Pantai Nampu</td>\n",
              "      <td>Pantai Nampu adalah objek wisata pantai yang b...</td>\n",
              "      <td>Wisata Bahari</td>\n",
              "      <td>Wonogiri</td>\n",
              "      <td>5000</td>\n",
              "      <td>4.5</td>\n",
              "      <td>129</td>\n",
              "      <td>{'lat': -8.19960, 'lng': 110.90042}</td>\n",
              "      <td>-8,199,060</td>\n",
              "      <td>110,900,042</td>\n",
              "    </tr>\n",
              "    <tr>\n",
              "      <th>1</th>\n",
              "      <td>2</td>\n",
              "      <td>Pantai Pulau Panjang</td>\n",
              "      <td>Pulau Panjang menjadi salah satu tempat wisata...</td>\n",
              "      <td>Wisata Bahari</td>\n",
              "      <td>Jepara</td>\n",
              "      <td>5000</td>\n",
              "      <td>4.5</td>\n",
              "      <td>15</td>\n",
              "      <td>{'lat': -5.51725, 'lng': 106.52147}</td>\n",
              "      <td>-5,517,025</td>\n",
              "      <td>106,521,047</td>\n",
              "    </tr>\n",
              "    <tr>\n",
              "      <th>2</th>\n",
              "      <td>3</td>\n",
              "      <td>Pantai Bandengan</td>\n",
              "      <td>Pantai Tirto Samudro atau Pantai Klein Scheven...</td>\n",
              "      <td>Wisata Bahari</td>\n",
              "      <td>Jepara</td>\n",
              "      <td>10000</td>\n",
              "      <td>4.4</td>\n",
              "      <td>20</td>\n",
              "      <td>{'lat': -6.55406, 'lng': 110.64872}</td>\n",
              "      <td>-6,554,006</td>\n",
              "      <td>110,648,072</td>\n",
              "    </tr>\n",
              "    <tr>\n",
              "      <th>3</th>\n",
              "      <td>4</td>\n",
              "      <td>Pantai Karang Bolong</td>\n",
              "      <td>Karangbolong Pada awalnya, pantai yang berada ...</td>\n",
              "      <td>Wisata Bahari</td>\n",
              "      <td>Kebumen</td>\n",
              "      <td>15000</td>\n",
              "      <td>4.3</td>\n",
              "      <td>30</td>\n",
              "      <td>{'lat': -7.758035, 'lng': 109.467794}</td>\n",
              "      <td>-7,758,035</td>\n",
              "      <td>109,467,794</td>\n",
              "    </tr>\n",
              "    <tr>\n",
              "      <th>4</th>\n",
              "      <td>5</td>\n",
              "      <td>Pantai Bopong</td>\n",
              "      <td>Pantai Bopong menjadi tempat piknik di Kebumen...</td>\n",
              "      <td>Wisata Bahari</td>\n",
              "      <td>Kebumen</td>\n",
              "      <td>5000</td>\n",
              "      <td>4.1</td>\n",
              "      <td>45</td>\n",
              "      <td>{'lat': -7.76296, 'lng': 109.51781}</td>\n",
              "      <td>-7,762,096</td>\n",
              "      <td>109,517,081</td>\n",
              "    </tr>\n",
              "  </tbody>\n",
              "</table>\n",
              "</div>\n",
              "      <button class=\"colab-df-convert\" onclick=\"convertToInteractive('df-d83a46c2-24e6-4b14-baa6-f1936b662a2b')\"\n",
              "              title=\"Convert this dataframe to an interactive table.\"\n",
              "              style=\"display:none;\">\n",
              "        \n",
              "  <svg xmlns=\"http://www.w3.org/2000/svg\" height=\"24px\"viewBox=\"0 0 24 24\"\n",
              "       width=\"24px\">\n",
              "    <path d=\"M0 0h24v24H0V0z\" fill=\"none\"/>\n",
              "    <path d=\"M18.56 5.44l.94 2.06.94-2.06 2.06-.94-2.06-.94-.94-2.06-.94 2.06-2.06.94zm-11 1L8.5 8.5l.94-2.06 2.06-.94-2.06-.94L8.5 2.5l-.94 2.06-2.06.94zm10 10l.94 2.06.94-2.06 2.06-.94-2.06-.94-.94-2.06-.94 2.06-2.06.94z\"/><path d=\"M17.41 7.96l-1.37-1.37c-.4-.4-.92-.59-1.43-.59-.52 0-1.04.2-1.43.59L10.3 9.45l-7.72 7.72c-.78.78-.78 2.05 0 2.83L4 21.41c.39.39.9.59 1.41.59.51 0 1.02-.2 1.41-.59l7.78-7.78 2.81-2.81c.8-.78.8-2.07 0-2.86zM5.41 20L4 18.59l7.72-7.72 1.47 1.35L5.41 20z\"/>\n",
              "  </svg>\n",
              "      </button>\n",
              "      \n",
              "  <style>\n",
              "    .colab-df-container {\n",
              "      display:flex;\n",
              "      flex-wrap:wrap;\n",
              "      gap: 12px;\n",
              "    }\n",
              "\n",
              "    .colab-df-convert {\n",
              "      background-color: #E8F0FE;\n",
              "      border: none;\n",
              "      border-radius: 50%;\n",
              "      cursor: pointer;\n",
              "      display: none;\n",
              "      fill: #1967D2;\n",
              "      height: 32px;\n",
              "      padding: 0 0 0 0;\n",
              "      width: 32px;\n",
              "    }\n",
              "\n",
              "    .colab-df-convert:hover {\n",
              "      background-color: #E2EBFA;\n",
              "      box-shadow: 0px 1px 2px rgba(60, 64, 67, 0.3), 0px 1px 3px 1px rgba(60, 64, 67, 0.15);\n",
              "      fill: #174EA6;\n",
              "    }\n",
              "\n",
              "    [theme=dark] .colab-df-convert {\n",
              "      background-color: #3B4455;\n",
              "      fill: #D2E3FC;\n",
              "    }\n",
              "\n",
              "    [theme=dark] .colab-df-convert:hover {\n",
              "      background-color: #434B5C;\n",
              "      box-shadow: 0px 1px 3px 1px rgba(0, 0, 0, 0.15);\n",
              "      filter: drop-shadow(0px 1px 2px rgba(0, 0, 0, 0.3));\n",
              "      fill: #FFFFFF;\n",
              "    }\n",
              "  </style>\n",
              "\n",
              "      <script>\n",
              "        const buttonEl =\n",
              "          document.querySelector('#df-d83a46c2-24e6-4b14-baa6-f1936b662a2b button.colab-df-convert');\n",
              "        buttonEl.style.display =\n",
              "          google.colab.kernel.accessAllowed ? 'block' : 'none';\n",
              "\n",
              "        async function convertToInteractive(key) {\n",
              "          const element = document.querySelector('#df-d83a46c2-24e6-4b14-baa6-f1936b662a2b');\n",
              "          const dataTable =\n",
              "            await google.colab.kernel.invokeFunction('convertToInteractive',\n",
              "                                                     [key], {});\n",
              "          if (!dataTable) return;\n",
              "\n",
              "          const docLinkHtml = 'Like what you see? Visit the ' +\n",
              "            '<a target=\"_blank\" href=https://colab.research.google.com/notebooks/data_table.ipynb>data table notebook</a>'\n",
              "            + ' to learn more about interactive tables.';\n",
              "          element.innerHTML = '';\n",
              "          dataTable['output_type'] = 'display_data';\n",
              "          await google.colab.output.renderOutput(dataTable, element);\n",
              "          const docLink = document.createElement('div');\n",
              "          docLink.innerHTML = docLinkHtml;\n",
              "          element.appendChild(docLink);\n",
              "        }\n",
              "      </script>\n",
              "    </div>\n",
              "  </div>\n",
              "  "
            ]
          },
          "metadata": {},
          "execution_count": 28
        }
      ],
      "source": [
        "#remove unused column\n",
        "\n",
        "place = place.drop(['Unnamed: 11','Unnamed: 12'],axis=1)\n",
        "place.head(5)"
      ]
    },
    {
      "cell_type": "code",
      "execution_count": 29,
      "id": "6bb1193a",
      "metadata": {
        "colab": {
          "base_uri": "https://localhost:8080/"
        },
        "id": "6bb1193a",
        "outputId": "4b870b94-8827-4946-e763-7b169491af2c"
      },
      "outputs": [
        {
          "output_type": "stream",
          "name": "stdout",
          "text": [
            "<class 'pandas.core.frame.DataFrame'>\n",
            "RangeIndex: 59 entries, 0 to 58\n",
            "Data columns (total 11 columns):\n",
            " #   Column        Non-Null Count  Dtype  \n",
            "---  ------        --------------  -----  \n",
            " 0   Place_Id      59 non-null     int64  \n",
            " 1   Place_Name    59 non-null     object \n",
            " 2   Description   59 non-null     object \n",
            " 3   Category      59 non-null     object \n",
            " 4   City          59 non-null     object \n",
            " 5   Price         59 non-null     int64  \n",
            " 6   Rating        59 non-null     float64\n",
            " 7   Time_Minutes  59 non-null     int64  \n",
            " 8   Coordinate    59 non-null     object \n",
            " 9   Lat           59 non-null     object \n",
            " 10  Long          59 non-null     object \n",
            "dtypes: float64(1), int64(3), object(7)\n",
            "memory usage: 5.2+ KB\n"
          ]
        }
      ],
      "source": [
        "place.info()"
      ]
    },
    {
      "cell_type": "code",
      "execution_count": 30,
      "id": "3e23a5ca",
      "metadata": {
        "colab": {
          "base_uri": "https://localhost:8080/",
          "height": 337
        },
        "id": "3e23a5ca",
        "outputId": "fc5affc7-5859-4f5c-d8f4-609639dac380"
      },
      "outputs": [
        {
          "output_type": "execute_result",
          "data": {
            "text/plain": [
              "   Place_Id             Place_Name  \\\n",
              "0         1           Pantai Nampu   \n",
              "1         2   Pantai Pulau Panjang   \n",
              "2         3       Pantai Bandengan   \n",
              "3         4  Pantai Karang Bolong    \n",
              "4         5          Pantai Bopong   \n",
              "\n",
              "                                         Description       Category      City  \\\n",
              "0  Pantai Nampu adalah objek wisata pantai yang b...  Wisata Bahari  Wonogiri   \n",
              "1  Pulau Panjang menjadi salah satu tempat wisata...  Wisata Bahari    Jepara   \n",
              "2  Pantai Tirto Samudro atau Pantai Klein Scheven...  Wisata Bahari    Jepara   \n",
              "3  Karangbolong Pada awalnya, pantai yang berada ...  Wisata Bahari   Kebumen   \n",
              "4  Pantai Bopong menjadi tempat piknik di Kebumen...  Wisata Bahari   Kebumen   \n",
              "\n",
              "   Price  Rating                             Coordinate         Lat  \\\n",
              "0   5000     4.5    {'lat': -8.19960, 'lng': 110.90042}  -8,199,060   \n",
              "1   5000     4.5    {'lat': -5.51725, 'lng': 106.52147}  -5,517,025   \n",
              "2  10000     4.4    {'lat': -6.55406, 'lng': 110.64872}  -6,554,006   \n",
              "3  15000     4.3  {'lat': -7.758035, 'lng': 109.467794}  -7,758,035   \n",
              "4   5000     4.1    {'lat': -7.76296, 'lng': 109.51781}  -7,762,096   \n",
              "\n",
              "          Long  \n",
              "0  110,900,042  \n",
              "1  106,521,047  \n",
              "2  110,648,072  \n",
              "3  109,467,794  \n",
              "4  109,517,081  "
            ],
            "text/html": [
              "\n",
              "  <div id=\"df-8a5988a2-9d85-4d49-9fcd-38b7c993249c\">\n",
              "    <div class=\"colab-df-container\">\n",
              "      <div>\n",
              "<style scoped>\n",
              "    .dataframe tbody tr th:only-of-type {\n",
              "        vertical-align: middle;\n",
              "    }\n",
              "\n",
              "    .dataframe tbody tr th {\n",
              "        vertical-align: top;\n",
              "    }\n",
              "\n",
              "    .dataframe thead th {\n",
              "        text-align: right;\n",
              "    }\n",
              "</style>\n",
              "<table border=\"1\" class=\"dataframe\">\n",
              "  <thead>\n",
              "    <tr style=\"text-align: right;\">\n",
              "      <th></th>\n",
              "      <th>Place_Id</th>\n",
              "      <th>Place_Name</th>\n",
              "      <th>Description</th>\n",
              "      <th>Category</th>\n",
              "      <th>City</th>\n",
              "      <th>Price</th>\n",
              "      <th>Rating</th>\n",
              "      <th>Coordinate</th>\n",
              "      <th>Lat</th>\n",
              "      <th>Long</th>\n",
              "    </tr>\n",
              "  </thead>\n",
              "  <tbody>\n",
              "    <tr>\n",
              "      <th>0</th>\n",
              "      <td>1</td>\n",
              "      <td>Pantai Nampu</td>\n",
              "      <td>Pantai Nampu adalah objek wisata pantai yang b...</td>\n",
              "      <td>Wisata Bahari</td>\n",
              "      <td>Wonogiri</td>\n",
              "      <td>5000</td>\n",
              "      <td>4.5</td>\n",
              "      <td>{'lat': -8.19960, 'lng': 110.90042}</td>\n",
              "      <td>-8,199,060</td>\n",
              "      <td>110,900,042</td>\n",
              "    </tr>\n",
              "    <tr>\n",
              "      <th>1</th>\n",
              "      <td>2</td>\n",
              "      <td>Pantai Pulau Panjang</td>\n",
              "      <td>Pulau Panjang menjadi salah satu tempat wisata...</td>\n",
              "      <td>Wisata Bahari</td>\n",
              "      <td>Jepara</td>\n",
              "      <td>5000</td>\n",
              "      <td>4.5</td>\n",
              "      <td>{'lat': -5.51725, 'lng': 106.52147}</td>\n",
              "      <td>-5,517,025</td>\n",
              "      <td>106,521,047</td>\n",
              "    </tr>\n",
              "    <tr>\n",
              "      <th>2</th>\n",
              "      <td>3</td>\n",
              "      <td>Pantai Bandengan</td>\n",
              "      <td>Pantai Tirto Samudro atau Pantai Klein Scheven...</td>\n",
              "      <td>Wisata Bahari</td>\n",
              "      <td>Jepara</td>\n",
              "      <td>10000</td>\n",
              "      <td>4.4</td>\n",
              "      <td>{'lat': -6.55406, 'lng': 110.64872}</td>\n",
              "      <td>-6,554,006</td>\n",
              "      <td>110,648,072</td>\n",
              "    </tr>\n",
              "    <tr>\n",
              "      <th>3</th>\n",
              "      <td>4</td>\n",
              "      <td>Pantai Karang Bolong</td>\n",
              "      <td>Karangbolong Pada awalnya, pantai yang berada ...</td>\n",
              "      <td>Wisata Bahari</td>\n",
              "      <td>Kebumen</td>\n",
              "      <td>15000</td>\n",
              "      <td>4.3</td>\n",
              "      <td>{'lat': -7.758035, 'lng': 109.467794}</td>\n",
              "      <td>-7,758,035</td>\n",
              "      <td>109,467,794</td>\n",
              "    </tr>\n",
              "    <tr>\n",
              "      <th>4</th>\n",
              "      <td>5</td>\n",
              "      <td>Pantai Bopong</td>\n",
              "      <td>Pantai Bopong menjadi tempat piknik di Kebumen...</td>\n",
              "      <td>Wisata Bahari</td>\n",
              "      <td>Kebumen</td>\n",
              "      <td>5000</td>\n",
              "      <td>4.1</td>\n",
              "      <td>{'lat': -7.76296, 'lng': 109.51781}</td>\n",
              "      <td>-7,762,096</td>\n",
              "      <td>109,517,081</td>\n",
              "    </tr>\n",
              "  </tbody>\n",
              "</table>\n",
              "</div>\n",
              "      <button class=\"colab-df-convert\" onclick=\"convertToInteractive('df-8a5988a2-9d85-4d49-9fcd-38b7c993249c')\"\n",
              "              title=\"Convert this dataframe to an interactive table.\"\n",
              "              style=\"display:none;\">\n",
              "        \n",
              "  <svg xmlns=\"http://www.w3.org/2000/svg\" height=\"24px\"viewBox=\"0 0 24 24\"\n",
              "       width=\"24px\">\n",
              "    <path d=\"M0 0h24v24H0V0z\" fill=\"none\"/>\n",
              "    <path d=\"M18.56 5.44l.94 2.06.94-2.06 2.06-.94-2.06-.94-.94-2.06-.94 2.06-2.06.94zm-11 1L8.5 8.5l.94-2.06 2.06-.94-2.06-.94L8.5 2.5l-.94 2.06-2.06.94zm10 10l.94 2.06.94-2.06 2.06-.94-2.06-.94-.94-2.06-.94 2.06-2.06.94z\"/><path d=\"M17.41 7.96l-1.37-1.37c-.4-.4-.92-.59-1.43-.59-.52 0-1.04.2-1.43.59L10.3 9.45l-7.72 7.72c-.78.78-.78 2.05 0 2.83L4 21.41c.39.39.9.59 1.41.59.51 0 1.02-.2 1.41-.59l7.78-7.78 2.81-2.81c.8-.78.8-2.07 0-2.86zM5.41 20L4 18.59l7.72-7.72 1.47 1.35L5.41 20z\"/>\n",
              "  </svg>\n",
              "      </button>\n",
              "      \n",
              "  <style>\n",
              "    .colab-df-container {\n",
              "      display:flex;\n",
              "      flex-wrap:wrap;\n",
              "      gap: 12px;\n",
              "    }\n",
              "\n",
              "    .colab-df-convert {\n",
              "      background-color: #E8F0FE;\n",
              "      border: none;\n",
              "      border-radius: 50%;\n",
              "      cursor: pointer;\n",
              "      display: none;\n",
              "      fill: #1967D2;\n",
              "      height: 32px;\n",
              "      padding: 0 0 0 0;\n",
              "      width: 32px;\n",
              "    }\n",
              "\n",
              "    .colab-df-convert:hover {\n",
              "      background-color: #E2EBFA;\n",
              "      box-shadow: 0px 1px 2px rgba(60, 64, 67, 0.3), 0px 1px 3px 1px rgba(60, 64, 67, 0.15);\n",
              "      fill: #174EA6;\n",
              "    }\n",
              "\n",
              "    [theme=dark] .colab-df-convert {\n",
              "      background-color: #3B4455;\n",
              "      fill: #D2E3FC;\n",
              "    }\n",
              "\n",
              "    [theme=dark] .colab-df-convert:hover {\n",
              "      background-color: #434B5C;\n",
              "      box-shadow: 0px 1px 3px 1px rgba(0, 0, 0, 0.15);\n",
              "      filter: drop-shadow(0px 1px 2px rgba(0, 0, 0, 0.3));\n",
              "      fill: #FFFFFF;\n",
              "    }\n",
              "  </style>\n",
              "\n",
              "      <script>\n",
              "        const buttonEl =\n",
              "          document.querySelector('#df-8a5988a2-9d85-4d49-9fcd-38b7c993249c button.colab-df-convert');\n",
              "        buttonEl.style.display =\n",
              "          google.colab.kernel.accessAllowed ? 'block' : 'none';\n",
              "\n",
              "        async function convertToInteractive(key) {\n",
              "          const element = document.querySelector('#df-8a5988a2-9d85-4d49-9fcd-38b7c993249c');\n",
              "          const dataTable =\n",
              "            await google.colab.kernel.invokeFunction('convertToInteractive',\n",
              "                                                     [key], {});\n",
              "          if (!dataTable) return;\n",
              "\n",
              "          const docLinkHtml = 'Like what you see? Visit the ' +\n",
              "            '<a target=\"_blank\" href=https://colab.research.google.com/notebooks/data_table.ipynb>data table notebook</a>'\n",
              "            + ' to learn more about interactive tables.';\n",
              "          element.innerHTML = '';\n",
              "          dataTable['output_type'] = 'display_data';\n",
              "          await google.colab.output.renderOutput(dataTable, element);\n",
              "          const docLink = document.createElement('div');\n",
              "          docLink.innerHTML = docLinkHtml;\n",
              "          element.appendChild(docLink);\n",
              "        }\n",
              "      </script>\n",
              "    </div>\n",
              "  </div>\n",
              "  "
            ]
          },
          "metadata": {},
          "execution_count": 30
        }
      ],
      "source": [
        "# remove unused column\n",
        "\n",
        "place = place.drop('Time_Minutes', axis=1)\n",
        "place.head(5)"
      ]
    },
    {
      "cell_type": "code",
      "execution_count": null,
      "id": "e51b601d",
      "metadata": {
        "id": "e51b601d"
      },
      "outputs": [],
      "source": [
        "# DATA RATING"
      ]
    },
    {
      "cell_type": "code",
      "execution_count": 31,
      "id": "fd862662",
      "metadata": {
        "colab": {
          "base_uri": "https://localhost:8080/",
          "height": 206
        },
        "id": "fd862662",
        "outputId": "fb92ff33-1d15-4a11-b556-44154f366c47"
      },
      "outputs": [
        {
          "output_type": "execute_result",
          "data": {
            "text/plain": [
              "   User_Id  Place_Id  Place_Ratings\n",
              "0        1         9              3\n",
              "1        1        34              2\n",
              "2        1         5              5\n",
              "3        1        33              3\n",
              "4        1        10              4"
            ],
            "text/html": [
              "\n",
              "  <div id=\"df-955501c5-a6e6-487d-a17f-e427f77c8058\">\n",
              "    <div class=\"colab-df-container\">\n",
              "      <div>\n",
              "<style scoped>\n",
              "    .dataframe tbody tr th:only-of-type {\n",
              "        vertical-align: middle;\n",
              "    }\n",
              "\n",
              "    .dataframe tbody tr th {\n",
              "        vertical-align: top;\n",
              "    }\n",
              "\n",
              "    .dataframe thead th {\n",
              "        text-align: right;\n",
              "    }\n",
              "</style>\n",
              "<table border=\"1\" class=\"dataframe\">\n",
              "  <thead>\n",
              "    <tr style=\"text-align: right;\">\n",
              "      <th></th>\n",
              "      <th>User_Id</th>\n",
              "      <th>Place_Id</th>\n",
              "      <th>Place_Ratings</th>\n",
              "    </tr>\n",
              "  </thead>\n",
              "  <tbody>\n",
              "    <tr>\n",
              "      <th>0</th>\n",
              "      <td>1</td>\n",
              "      <td>9</td>\n",
              "      <td>3</td>\n",
              "    </tr>\n",
              "    <tr>\n",
              "      <th>1</th>\n",
              "      <td>1</td>\n",
              "      <td>34</td>\n",
              "      <td>2</td>\n",
              "    </tr>\n",
              "    <tr>\n",
              "      <th>2</th>\n",
              "      <td>1</td>\n",
              "      <td>5</td>\n",
              "      <td>5</td>\n",
              "    </tr>\n",
              "    <tr>\n",
              "      <th>3</th>\n",
              "      <td>1</td>\n",
              "      <td>33</td>\n",
              "      <td>3</td>\n",
              "    </tr>\n",
              "    <tr>\n",
              "      <th>4</th>\n",
              "      <td>1</td>\n",
              "      <td>10</td>\n",
              "      <td>4</td>\n",
              "    </tr>\n",
              "  </tbody>\n",
              "</table>\n",
              "</div>\n",
              "      <button class=\"colab-df-convert\" onclick=\"convertToInteractive('df-955501c5-a6e6-487d-a17f-e427f77c8058')\"\n",
              "              title=\"Convert this dataframe to an interactive table.\"\n",
              "              style=\"display:none;\">\n",
              "        \n",
              "  <svg xmlns=\"http://www.w3.org/2000/svg\" height=\"24px\"viewBox=\"0 0 24 24\"\n",
              "       width=\"24px\">\n",
              "    <path d=\"M0 0h24v24H0V0z\" fill=\"none\"/>\n",
              "    <path d=\"M18.56 5.44l.94 2.06.94-2.06 2.06-.94-2.06-.94-.94-2.06-.94 2.06-2.06.94zm-11 1L8.5 8.5l.94-2.06 2.06-.94-2.06-.94L8.5 2.5l-.94 2.06-2.06.94zm10 10l.94 2.06.94-2.06 2.06-.94-2.06-.94-.94-2.06-.94 2.06-2.06.94z\"/><path d=\"M17.41 7.96l-1.37-1.37c-.4-.4-.92-.59-1.43-.59-.52 0-1.04.2-1.43.59L10.3 9.45l-7.72 7.72c-.78.78-.78 2.05 0 2.83L4 21.41c.39.39.9.59 1.41.59.51 0 1.02-.2 1.41-.59l7.78-7.78 2.81-2.81c.8-.78.8-2.07 0-2.86zM5.41 20L4 18.59l7.72-7.72 1.47 1.35L5.41 20z\"/>\n",
              "  </svg>\n",
              "      </button>\n",
              "      \n",
              "  <style>\n",
              "    .colab-df-container {\n",
              "      display:flex;\n",
              "      flex-wrap:wrap;\n",
              "      gap: 12px;\n",
              "    }\n",
              "\n",
              "    .colab-df-convert {\n",
              "      background-color: #E8F0FE;\n",
              "      border: none;\n",
              "      border-radius: 50%;\n",
              "      cursor: pointer;\n",
              "      display: none;\n",
              "      fill: #1967D2;\n",
              "      height: 32px;\n",
              "      padding: 0 0 0 0;\n",
              "      width: 32px;\n",
              "    }\n",
              "\n",
              "    .colab-df-convert:hover {\n",
              "      background-color: #E2EBFA;\n",
              "      box-shadow: 0px 1px 2px rgba(60, 64, 67, 0.3), 0px 1px 3px 1px rgba(60, 64, 67, 0.15);\n",
              "      fill: #174EA6;\n",
              "    }\n",
              "\n",
              "    [theme=dark] .colab-df-convert {\n",
              "      background-color: #3B4455;\n",
              "      fill: #D2E3FC;\n",
              "    }\n",
              "\n",
              "    [theme=dark] .colab-df-convert:hover {\n",
              "      background-color: #434B5C;\n",
              "      box-shadow: 0px 1px 3px 1px rgba(0, 0, 0, 0.15);\n",
              "      filter: drop-shadow(0px 1px 2px rgba(0, 0, 0, 0.3));\n",
              "      fill: #FFFFFF;\n",
              "    }\n",
              "  </style>\n",
              "\n",
              "      <script>\n",
              "        const buttonEl =\n",
              "          document.querySelector('#df-955501c5-a6e6-487d-a17f-e427f77c8058 button.colab-df-convert');\n",
              "        buttonEl.style.display =\n",
              "          google.colab.kernel.accessAllowed ? 'block' : 'none';\n",
              "\n",
              "        async function convertToInteractive(key) {\n",
              "          const element = document.querySelector('#df-955501c5-a6e6-487d-a17f-e427f77c8058');\n",
              "          const dataTable =\n",
              "            await google.colab.kernel.invokeFunction('convertToInteractive',\n",
              "                                                     [key], {});\n",
              "          if (!dataTable) return;\n",
              "\n",
              "          const docLinkHtml = 'Like what you see? Visit the ' +\n",
              "            '<a target=\"_blank\" href=https://colab.research.google.com/notebooks/data_table.ipynb>data table notebook</a>'\n",
              "            + ' to learn more about interactive tables.';\n",
              "          element.innerHTML = '';\n",
              "          dataTable['output_type'] = 'display_data';\n",
              "          await google.colab.output.renderOutput(dataTable, element);\n",
              "          const docLink = document.createElement('div');\n",
              "          docLink.innerHTML = docLinkHtml;\n",
              "          element.appendChild(docLink);\n",
              "        }\n",
              "      </script>\n",
              "    </div>\n",
              "  </div>\n",
              "  "
            ]
          },
          "metadata": {},
          "execution_count": 31
        }
      ],
      "source": [
        "# showing data rating\n",
        "rate.head(5)"
      ]
    },
    {
      "cell_type": "code",
      "execution_count": 32,
      "id": "5b06b54e",
      "metadata": {
        "colab": {
          "base_uri": "https://localhost:8080/"
        },
        "id": "5b06b54e",
        "outputId": "92fd4fda-bb55-4919-93ac-e82a688038b1"
      },
      "outputs": [
        {
          "output_type": "stream",
          "name": "stdout",
          "text": [
            "<class 'pandas.core.frame.DataFrame'>\n",
            "RangeIndex: 3284 entries, 0 to 3283\n",
            "Data columns (total 3 columns):\n",
            " #   Column         Non-Null Count  Dtype\n",
            "---  ------         --------------  -----\n",
            " 0   User_Id        3284 non-null   int64\n",
            " 1   Place_Id       3284 non-null   int64\n",
            " 2   Place_Ratings  3284 non-null   int64\n",
            "dtypes: int64(3)\n",
            "memory usage: 77.1 KB\n"
          ]
        }
      ],
      "source": [
        "rate.info()"
      ]
    },
    {
      "cell_type": "code",
      "execution_count": 33,
      "id": "17dfb433",
      "metadata": {
        "colab": {
          "base_uri": "https://localhost:8080/"
        },
        "id": "17dfb433",
        "outputId": "420bb459-498f-4998-d964-b66fbe71d72e"
      },
      "outputs": [
        {
          "output_type": "execute_result",
          "data": {
            "text/plain": [
              "(3284, 3)"
            ]
          },
          "metadata": {},
          "execution_count": 33
        }
      ],
      "source": [
        "# Showing rating dataset large \n",
        "\n",
        "rate.shape"
      ]
    },
    {
      "cell_type": "code",
      "execution_count": null,
      "id": "43d2f5ed",
      "metadata": {
        "id": "43d2f5ed"
      },
      "outputs": [],
      "source": [
        "#DATA USER"
      ]
    },
    {
      "cell_type": "code",
      "execution_count": 34,
      "id": "38617b92",
      "metadata": {
        "colab": {
          "base_uri": "https://localhost:8080/",
          "height": 206
        },
        "id": "38617b92",
        "outputId": "e0235f3e-0836-41dc-dc8a-7d03a24fb689"
      },
      "outputs": [
        {
          "output_type": "execute_result",
          "data": {
            "text/plain": [
              "   User_Id                   Location  Age\n",
              "0        1      Semarang, Jawa Tengah   20\n",
              "1        2         Bekasi, Jawa Barat   21\n",
              "2        3        Cirebon, Jawa Barat   23\n",
              "3        4         Bekasi, Jawa Barat   21\n",
              "4        5  Lampung, Sumatera Selatan   20"
            ],
            "text/html": [
              "\n",
              "  <div id=\"df-fe68335a-fa58-41c8-8317-29b2ff023721\">\n",
              "    <div class=\"colab-df-container\">\n",
              "      <div>\n",
              "<style scoped>\n",
              "    .dataframe tbody tr th:only-of-type {\n",
              "        vertical-align: middle;\n",
              "    }\n",
              "\n",
              "    .dataframe tbody tr th {\n",
              "        vertical-align: top;\n",
              "    }\n",
              "\n",
              "    .dataframe thead th {\n",
              "        text-align: right;\n",
              "    }\n",
              "</style>\n",
              "<table border=\"1\" class=\"dataframe\">\n",
              "  <thead>\n",
              "    <tr style=\"text-align: right;\">\n",
              "      <th></th>\n",
              "      <th>User_Id</th>\n",
              "      <th>Location</th>\n",
              "      <th>Age</th>\n",
              "    </tr>\n",
              "  </thead>\n",
              "  <tbody>\n",
              "    <tr>\n",
              "      <th>0</th>\n",
              "      <td>1</td>\n",
              "      <td>Semarang, Jawa Tengah</td>\n",
              "      <td>20</td>\n",
              "    </tr>\n",
              "    <tr>\n",
              "      <th>1</th>\n",
              "      <td>2</td>\n",
              "      <td>Bekasi, Jawa Barat</td>\n",
              "      <td>21</td>\n",
              "    </tr>\n",
              "    <tr>\n",
              "      <th>2</th>\n",
              "      <td>3</td>\n",
              "      <td>Cirebon, Jawa Barat</td>\n",
              "      <td>23</td>\n",
              "    </tr>\n",
              "    <tr>\n",
              "      <th>3</th>\n",
              "      <td>4</td>\n",
              "      <td>Bekasi, Jawa Barat</td>\n",
              "      <td>21</td>\n",
              "    </tr>\n",
              "    <tr>\n",
              "      <th>4</th>\n",
              "      <td>5</td>\n",
              "      <td>Lampung, Sumatera Selatan</td>\n",
              "      <td>20</td>\n",
              "    </tr>\n",
              "  </tbody>\n",
              "</table>\n",
              "</div>\n",
              "      <button class=\"colab-df-convert\" onclick=\"convertToInteractive('df-fe68335a-fa58-41c8-8317-29b2ff023721')\"\n",
              "              title=\"Convert this dataframe to an interactive table.\"\n",
              "              style=\"display:none;\">\n",
              "        \n",
              "  <svg xmlns=\"http://www.w3.org/2000/svg\" height=\"24px\"viewBox=\"0 0 24 24\"\n",
              "       width=\"24px\">\n",
              "    <path d=\"M0 0h24v24H0V0z\" fill=\"none\"/>\n",
              "    <path d=\"M18.56 5.44l.94 2.06.94-2.06 2.06-.94-2.06-.94-.94-2.06-.94 2.06-2.06.94zm-11 1L8.5 8.5l.94-2.06 2.06-.94-2.06-.94L8.5 2.5l-.94 2.06-2.06.94zm10 10l.94 2.06.94-2.06 2.06-.94-2.06-.94-.94-2.06-.94 2.06-2.06.94z\"/><path d=\"M17.41 7.96l-1.37-1.37c-.4-.4-.92-.59-1.43-.59-.52 0-1.04.2-1.43.59L10.3 9.45l-7.72 7.72c-.78.78-.78 2.05 0 2.83L4 21.41c.39.39.9.59 1.41.59.51 0 1.02-.2 1.41-.59l7.78-7.78 2.81-2.81c.8-.78.8-2.07 0-2.86zM5.41 20L4 18.59l7.72-7.72 1.47 1.35L5.41 20z\"/>\n",
              "  </svg>\n",
              "      </button>\n",
              "      \n",
              "  <style>\n",
              "    .colab-df-container {\n",
              "      display:flex;\n",
              "      flex-wrap:wrap;\n",
              "      gap: 12px;\n",
              "    }\n",
              "\n",
              "    .colab-df-convert {\n",
              "      background-color: #E8F0FE;\n",
              "      border: none;\n",
              "      border-radius: 50%;\n",
              "      cursor: pointer;\n",
              "      display: none;\n",
              "      fill: #1967D2;\n",
              "      height: 32px;\n",
              "      padding: 0 0 0 0;\n",
              "      width: 32px;\n",
              "    }\n",
              "\n",
              "    .colab-df-convert:hover {\n",
              "      background-color: #E2EBFA;\n",
              "      box-shadow: 0px 1px 2px rgba(60, 64, 67, 0.3), 0px 1px 3px 1px rgba(60, 64, 67, 0.15);\n",
              "      fill: #174EA6;\n",
              "    }\n",
              "\n",
              "    [theme=dark] .colab-df-convert {\n",
              "      background-color: #3B4455;\n",
              "      fill: #D2E3FC;\n",
              "    }\n",
              "\n",
              "    [theme=dark] .colab-df-convert:hover {\n",
              "      background-color: #434B5C;\n",
              "      box-shadow: 0px 1px 3px 1px rgba(0, 0, 0, 0.15);\n",
              "      filter: drop-shadow(0px 1px 2px rgba(0, 0, 0, 0.3));\n",
              "      fill: #FFFFFF;\n",
              "    }\n",
              "  </style>\n",
              "\n",
              "      <script>\n",
              "        const buttonEl =\n",
              "          document.querySelector('#df-fe68335a-fa58-41c8-8317-29b2ff023721 button.colab-df-convert');\n",
              "        buttonEl.style.display =\n",
              "          google.colab.kernel.accessAllowed ? 'block' : 'none';\n",
              "\n",
              "        async function convertToInteractive(key) {\n",
              "          const element = document.querySelector('#df-fe68335a-fa58-41c8-8317-29b2ff023721');\n",
              "          const dataTable =\n",
              "            await google.colab.kernel.invokeFunction('convertToInteractive',\n",
              "                                                     [key], {});\n",
              "          if (!dataTable) return;\n",
              "\n",
              "          const docLinkHtml = 'Like what you see? Visit the ' +\n",
              "            '<a target=\"_blank\" href=https://colab.research.google.com/notebooks/data_table.ipynb>data table notebook</a>'\n",
              "            + ' to learn more about interactive tables.';\n",
              "          element.innerHTML = '';\n",
              "          dataTable['output_type'] = 'display_data';\n",
              "          await google.colab.output.renderOutput(dataTable, element);\n",
              "          const docLink = document.createElement('div');\n",
              "          docLink.innerHTML = docLinkHtml;\n",
              "          element.appendChild(docLink);\n",
              "        }\n",
              "      </script>\n",
              "    </div>\n",
              "  </div>\n",
              "  "
            ]
          },
          "metadata": {},
          "execution_count": 34
        }
      ],
      "source": [
        "# showing data user\n",
        "user.head(5)"
      ]
    },
    {
      "cell_type": "code",
      "execution_count": 35,
      "id": "a5f5b1f0",
      "metadata": {
        "colab": {
          "base_uri": "https://localhost:8080/"
        },
        "id": "a5f5b1f0",
        "outputId": "4fb6e993-4e0e-410f-e846-1932fe2a454b"
      },
      "outputs": [
        {
          "output_type": "execute_result",
          "data": {
            "text/plain": [
              "(300, 3)"
            ]
          },
          "metadata": {},
          "execution_count": 35
        }
      ],
      "source": [
        "# Showing user dataset large\n",
        "\n",
        "user.shape"
      ]
    },
    {
      "cell_type": "code",
      "execution_count": null,
      "id": "be91f404",
      "metadata": {
        "id": "be91f404"
      },
      "outputs": [],
      "source": [
        "#DATA EXPLORATION"
      ]
    },
    {
      "cell_type": "code",
      "execution_count": 36,
      "id": "ab175e2c",
      "metadata": {
        "colab": {
          "base_uri": "https://localhost:8080/",
          "height": 369
        },
        "id": "ab175e2c",
        "outputId": "37b17001-896f-48d1-8a51-dc9136684692"
      },
      "outputs": [
        {
          "output_type": "display_data",
          "data": {
            "text/plain": [
              "<Figure size 576x360 with 1 Axes>"
            ],
            "image/png": "[encoded data removed]"
          },
          "metadata": {
            "needs_background": "light"
          }
        }
      ],
      "source": [
        "# Create a dataframe containing the location with the highest number of ratings\n",
        "top_10 = rate['Place_Id'].value_counts().reset_index()[0:10]\n",
        "top_10 = pd.merge(top_10, place[['Place_Id','Place_Name']], how='left', left_on='index', right_on='Place_Id')\n",
        "\n",
        "# Create a tourist visualization with the highest number of ratings\n",
        "plt.figure(figsize=(8,5))\n",
        "sns.barplot('Place_Id_x', 'Place_Name', data=top_10)\n",
        "plt.title('Number of Tourist Attractions with the Most Ratings', pad=20)\n",
        "plt.ylabel('Total Rating')\n",
        "plt.xlabel('Location Name')\n",
        "plt.show()"
      ]
    },
    {
      "cell_type": "code",
      "execution_count": 38,
      "id": "e680ed02",
      "metadata": {
        "colab": {
          "base_uri": "https://localhost:8080/",
          "height": 315
        },
        "id": "e680ed02",
        "outputId": "0a25e496-9c23-40b2-f87e-fe2f90a0c771"
      },
      "outputs": [
        {
          "output_type": "display_data",
          "data": {
            "text/plain": [
              "<Figure size 432x288 with 1 Axes>"
            ],
            "image/png": "[encoded data removed]"
          },
          "metadata": {
            "needs_background": "light"
          }
        }
      ],
      "source": [
        "# Make a visualization of the number of tourism categories \n",
        "\n",
        "sns.countplot(y='Category', data=place)\n",
        "plt.title('Comparison of the Number of Tourism Categories in the Central Java', pad=20)\n",
        "plt.show()"
      ]
    },
    {
      "cell_type": "code",
      "execution_count": 39,
      "id": "40171911",
      "metadata": {
        "colab": {
          "base_uri": "https://localhost:8080/",
          "height": 260
        },
        "id": "40171911",
        "outputId": "0fab1a7d-87aa-423d-c52d-86e31c9d7fc1"
      },
      "outputs": [
        {
          "output_type": "display_data",
          "data": {
            "text/plain": [
              "<Figure size 360x216 with 1 Axes>"
            ],
            "image/png": "[encoded data removed]"
          },
          "metadata": {
            "needs_background": "light"
          }
        }
      ],
      "source": [
        "# Create user age distribution visualization\n",
        "\n",
        "plt.figure(figsize=(5,3))\n",
        "sns.boxplot(user['Age']);\n",
        "plt.title('User Age Distribution', pad=20)\n",
        "plt.show()"
      ]
    },
    {
      "cell_type": "code",
      "execution_count": 40,
      "id": "62830ec6",
      "metadata": {
        "colab": {
          "base_uri": "https://localhost:8080/",
          "height": 260
        },
        "id": "62830ec6",
        "outputId": "732a0c7d-8769-46ab-810b-8b44345741fd"
      },
      "outputs": [
        {
          "output_type": "display_data",
          "data": {
            "text/plain": [
              "<Figure size 504x216 with 1 Axes>"
            ],
            "image/png": "[encoded data removed]"
          },
          "metadata": {
            "needs_background": "light"
          }
        }
      ],
      "source": [
        "# Make a visualization of the distribution of tourist attractions entrance prices\n",
        "\n",
        "plt.figure(figsize=(7,3))\n",
        "sns.boxplot(place['Price'])\n",
        "plt.title('Distribution of Tour Entrance Prices in Central Java', pad=20)\n",
        "plt.show()"
      ]
    },
    {
      "cell_type": "code",
      "execution_count": 41,
      "id": "b81735bf",
      "metadata": {
        "colab": {
          "base_uri": "https://localhost:8080/",
          "height": 410
        },
        "id": "b81735bf",
        "outputId": "37ab71f7-0254-46f0-e42f-9e6167a679c4"
      },
      "outputs": [
        {
          "output_type": "display_data",
          "data": {
            "text/plain": [
              "<Figure size 576x432 with 1 Axes>"
            ],
            "image/png": "[encoded data removed]"
          },
          "metadata": {
            "needs_background": "light"
          }
        }
      ],
      "source": [
        "# Filtering origin city from user\n",
        "askot = user['Location'].apply(lambda x : x.split(',')[0])\n",
        "\n",
        "# Visualization of the origin of the city from the user\n",
        "plt.figure(figsize=(8,6))\n",
        "sns.countplot(y=askot)\n",
        "plt.title('Number of Origin City of User')\n",
        "plt.show()"
      ]
    },
    {
      "cell_type": "code",
      "execution_count": null,
      "id": "ff648e84",
      "metadata": {
        "id": "ff648e84"
      },
      "outputs": [],
      "source": [
        "# DATA MODELLING PREPARATION"
      ]
    },
    {
      "cell_type": "code",
      "execution_count": 42,
      "id": "d9c81837",
      "metadata": {
        "colab": {
          "base_uri": "https://localhost:8080/",
          "height": 206
        },
        "id": "d9c81837",
        "outputId": "88cd1175-7848-43a3-f585-a353f2df9990"
      },
      "outputs": [
        {
          "output_type": "execute_result",
          "data": {
            "text/plain": [
              "   User_Id  Place_Id  Place_Ratings\n",
              "0        1         9              3\n",
              "1        1        34              2\n",
              "2        1         5              5\n",
              "3        1        33              3\n",
              "4        1        10              4"
            ],
            "text/html": [
              "\n",
              "  <div id=\"df-35ca630c-ee76-477c-8206-cb54003ae597\">\n",
              "    <div class=\"colab-df-container\">\n",
              "      <div>\n",
              "<style scoped>\n",
              "    .dataframe tbody tr th:only-of-type {\n",
              "        vertical-align: middle;\n",
              "    }\n",
              "\n",
              "    .dataframe tbody tr th {\n",
              "        vertical-align: top;\n",
              "    }\n",
              "\n",
              "    .dataframe thead th {\n",
              "        text-align: right;\n",
              "    }\n",
              "</style>\n",
              "<table border=\"1\" class=\"dataframe\">\n",
              "  <thead>\n",
              "    <tr style=\"text-align: right;\">\n",
              "      <th></th>\n",
              "      <th>User_Id</th>\n",
              "      <th>Place_Id</th>\n",
              "      <th>Place_Ratings</th>\n",
              "    </tr>\n",
              "  </thead>\n",
              "  <tbody>\n",
              "    <tr>\n",
              "      <th>0</th>\n",
              "      <td>1</td>\n",
              "      <td>9</td>\n",
              "      <td>3</td>\n",
              "    </tr>\n",
              "    <tr>\n",
              "      <th>1</th>\n",
              "      <td>1</td>\n",
              "      <td>34</td>\n",
              "      <td>2</td>\n",
              "    </tr>\n",
              "    <tr>\n",
              "      <th>2</th>\n",
              "      <td>1</td>\n",
              "      <td>5</td>\n",
              "      <td>5</td>\n",
              "    </tr>\n",
              "    <tr>\n",
              "      <th>3</th>\n",
              "      <td>1</td>\n",
              "      <td>33</td>\n",
              "      <td>3</td>\n",
              "    </tr>\n",
              "    <tr>\n",
              "      <th>4</th>\n",
              "      <td>1</td>\n",
              "      <td>10</td>\n",
              "      <td>4</td>\n",
              "    </tr>\n",
              "  </tbody>\n",
              "</table>\n",
              "</div>\n",
              "      <button class=\"colab-df-convert\" onclick=\"convertToInteractive('df-35ca630c-ee76-477c-8206-cb54003ae597')\"\n",
              "              title=\"Convert this dataframe to an interactive table.\"\n",
              "              style=\"display:none;\">\n",
              "        \n",
              "  <svg xmlns=\"http://www.w3.org/2000/svg\" height=\"24px\"viewBox=\"0 0 24 24\"\n",
              "       width=\"24px\">\n",
              "    <path d=\"M0 0h24v24H0V0z\" fill=\"none\"/>\n",
              "    <path d=\"M18.56 5.44l.94 2.06.94-2.06 2.06-.94-2.06-.94-.94-2.06-.94 2.06-2.06.94zm-11 1L8.5 8.5l.94-2.06 2.06-.94-2.06-.94L8.5 2.5l-.94 2.06-2.06.94zm10 10l.94 2.06.94-2.06 2.06-.94-2.06-.94-.94-2.06-.94 2.06-2.06.94z\"/><path d=\"M17.41 7.96l-1.37-1.37c-.4-.4-.92-.59-1.43-.59-.52 0-1.04.2-1.43.59L10.3 9.45l-7.72 7.72c-.78.78-.78 2.05 0 2.83L4 21.41c.39.39.9.59 1.41.59.51 0 1.02-.2 1.41-.59l7.78-7.78 2.81-2.81c.8-.78.8-2.07 0-2.86zM5.41 20L4 18.59l7.72-7.72 1.47 1.35L5.41 20z\"/>\n",
              "  </svg>\n",
              "      </button>\n",
              "      \n",
              "  <style>\n",
              "    .colab-df-container {\n",
              "      display:flex;\n",
              "      flex-wrap:wrap;\n",
              "      gap: 12px;\n",
              "    }\n",
              "\n",
              "    .colab-df-convert {\n",
              "      background-color: #E8F0FE;\n",
              "      border: none;\n",
              "      border-radius: 50%;\n",
              "      cursor: pointer;\n",
              "      display: none;\n",
              "      fill: #1967D2;\n",
              "      height: 32px;\n",
              "      padding: 0 0 0 0;\n",
              "      width: 32px;\n",
              "    }\n",
              "\n",
              "    .colab-df-convert:hover {\n",
              "      background-color: #E2EBFA;\n",
              "      box-shadow: 0px 1px 2px rgba(60, 64, 67, 0.3), 0px 1px 3px 1px rgba(60, 64, 67, 0.15);\n",
              "      fill: #174EA6;\n",
              "    }\n",
              "\n",
              "    [theme=dark] .colab-df-convert {\n",
              "      background-color: #3B4455;\n",
              "      fill: #D2E3FC;\n",
              "    }\n",
              "\n",
              "    [theme=dark] .colab-df-convert:hover {\n",
              "      background-color: #434B5C;\n",
              "      box-shadow: 0px 1px 3px 1px rgba(0, 0, 0, 0.15);\n",
              "      filter: drop-shadow(0px 1px 2px rgba(0, 0, 0, 0.3));\n",
              "      fill: #FFFFFF;\n",
              "    }\n",
              "  </style>\n",
              "\n",
              "      <script>\n",
              "        const buttonEl =\n",
              "          document.querySelector('#df-35ca630c-ee76-477c-8206-cb54003ae597 button.colab-df-convert');\n",
              "        buttonEl.style.display =\n",
              "          google.colab.kernel.accessAllowed ? 'block' : 'none';\n",
              "\n",
              "        async function convertToInteractive(key) {\n",
              "          const element = document.querySelector('#df-35ca630c-ee76-477c-8206-cb54003ae597');\n",
              "          const dataTable =\n",
              "            await google.colab.kernel.invokeFunction('convertToInteractive',\n",
              "                                                     [key], {});\n",
              "          if (!dataTable) return;\n",
              "\n",
              "          const docLinkHtml = 'Like what you see? Visit the ' +\n",
              "            '<a target=\"_blank\" href=https://colab.research.google.com/notebooks/data_table.ipynb>data table notebook</a>'\n",
              "            + ' to learn more about interactive tables.';\n",
              "          element.innerHTML = '';\n",
              "          dataTable['output_type'] = 'display_data';\n",
              "          await google.colab.output.renderOutput(dataTable, element);\n",
              "          const docLink = document.createElement('div');\n",
              "          docLink.innerHTML = docLinkHtml;\n",
              "          element.appendChild(docLink);\n",
              "        }\n",
              "      </script>\n",
              "    </div>\n",
              "  </div>\n",
              "  "
            ]
          },
          "metadata": {},
          "execution_count": 42
        }
      ],
      "source": [
        "# create copy of data rating\n",
        "\n",
        "# Read the dataset for encoding\n",
        "df = rate.copy()\n",
        "df.head()"
      ]
    },
    {
      "cell_type": "code",
      "execution_count": 43,
      "id": "645edd04",
      "metadata": {
        "id": "645edd04"
      },
      "outputs": [],
      "source": [
        "# do encoding\n",
        "\n",
        "# Creating Functions for Encoding\n",
        "def dict_encoder(col, data=df):\n",
        "\n",
        "  # Converting a column of a dataframe into a list without the same value\n",
        "  unique_val = data[col].unique().tolist()\n",
        "\n",
        "  # Encoding the column values of a dataframe to numbers\n",
        "  val_to_val_encoded = {x: i for i, x in enumerate(unique_val)}\n",
        "\n",
        "  # Perform the process of encoding numbers to values from columns of a dataframe\n",
        "  val_encoded_to_val = {i: x for i, x in enumerate(unique_val)}\n",
        "  return val_to_val_encoded, val_encoded_to_val"
      ]
    },
    {
      "cell_type": "code",
      "execution_count": 44,
      "id": "388d1fba",
      "metadata": {
        "id": "388d1fba"
      },
      "outputs": [],
      "source": [
        "# Encoding and Mapping User column\n",
        "\n",
        "# Encoding User_Id\n",
        "user_to_user_encoded, user_encoded_to_user = dict_encoder('User_Id')\n",
        "\n",
        "# Mapping User_Id to dataframe\n",
        "df['user'] = df['User_Id'].map(user_to_user_encoded)"
      ]
    },
    {
      "cell_type": "code",
      "execution_count": 45,
      "id": "f23593db",
      "metadata": {
        "id": "f23593db"
      },
      "outputs": [],
      "source": [
        "# Encoding and Mapping Place column\n",
        "\n",
        "# Encoding Place_Id\n",
        "place_to_place_encoded, place_encoded_to_place = dict_encoder('Place_Id')\n",
        "\n",
        "# Mapping Place_Id to dataframe place\n",
        "df['place'] = df['Place_Id'].map(place_to_place_encoded)"
      ]
    },
    {
      "cell_type": "code",
      "execution_count": 46,
      "id": "8000c8b2",
      "metadata": {
        "colab": {
          "base_uri": "https://localhost:8080/"
        },
        "id": "8000c8b2",
        "outputId": "9c765302-5ce3-4d13-f3dd-ec936eaa195a"
      },
      "outputs": [
        {
          "output_type": "stream",
          "name": "stdout",
          "text": [
            "Number of User: 100, Number of Place: 64, Min Rating: 1.0, Max Rating: 5.0\n"
          ]
        }
      ],
      "source": [
        "# Viewing Data Overview for Modeling\n",
        "\n",
        "# Get total user and place\n",
        "num_users, num_place = len(user_to_user_encoded), len(place_to_place_encoded)\n",
        " \n",
        "# Convert rating to float value\n",
        "df['Place_Ratings'] = df['Place_Ratings'].values.astype(np.float32)\n",
        " \n",
        "# Get the minimum and maximum rating\n",
        "min_rate, max_rate = min(df['Place_Ratings']), max(df['Place_Ratings'])\n",
        " \n",
        "print(f'Number of User: {num_users}, Number of Place: {num_place}, Min Rating: {min_rate}, Max Rating: {max_rate}')"
      ]
    },
    {
      "cell_type": "code",
      "execution_count": 47,
      "id": "d7178353",
      "metadata": {
        "colab": {
          "base_uri": "https://localhost:8080/",
          "height": 206
        },
        "id": "d7178353",
        "outputId": "900bcbb2-a44b-4c4c-bfc9-df2fe529f798"
      },
      "outputs": [
        {
          "output_type": "execute_result",
          "data": {
            "text/plain": [
              "      User_Id  Place_Id  Place_Ratings  user  place\n",
              "2208       68        27            3.0    67     42\n",
              "1084       34        32            4.0    33     26\n",
              "1655       52        20            1.0    51      7\n",
              "1651       51        35            4.0    50     48\n",
              "1450       45         7            2.0    44     15"
            ],
            "text/html": [
              "\n",
              "  <div id=\"df-221f9143-fe43-40e1-aa9a-6c022a366032\">\n",
              "    <div class=\"colab-df-container\">\n",
              "      <div>\n",
              "<style scoped>\n",
              "    .dataframe tbody tr th:only-of-type {\n",
              "        vertical-align: middle;\n",
              "    }\n",
              "\n",
              "    .dataframe tbody tr th {\n",
              "        vertical-align: top;\n",
              "    }\n",
              "\n",
              "    .dataframe thead th {\n",
              "        text-align: right;\n",
              "    }\n",
              "</style>\n",
              "<table border=\"1\" class=\"dataframe\">\n",
              "  <thead>\n",
              "    <tr style=\"text-align: right;\">\n",
              "      <th></th>\n",
              "      <th>User_Id</th>\n",
              "      <th>Place_Id</th>\n",
              "      <th>Place_Ratings</th>\n",
              "      <th>user</th>\n",
              "      <th>place</th>\n",
              "    </tr>\n",
              "  </thead>\n",
              "  <tbody>\n",
              "    <tr>\n",
              "      <th>2208</th>\n",
              "      <td>68</td>\n",
              "      <td>27</td>\n",
              "      <td>3.0</td>\n",
              "      <td>67</td>\n",
              "      <td>42</td>\n",
              "    </tr>\n",
              "    <tr>\n",
              "      <th>1084</th>\n",
              "      <td>34</td>\n",
              "      <td>32</td>\n",
              "      <td>4.0</td>\n",
              "      <td>33</td>\n",
              "      <td>26</td>\n",
              "    </tr>\n",
              "    <tr>\n",
              "      <th>1655</th>\n",
              "      <td>52</td>\n",
              "      <td>20</td>\n",
              "      <td>1.0</td>\n",
              "      <td>51</td>\n",
              "      <td>7</td>\n",
              "    </tr>\n",
              "    <tr>\n",
              "      <th>1651</th>\n",
              "      <td>51</td>\n",
              "      <td>35</td>\n",
              "      <td>4.0</td>\n",
              "      <td>50</td>\n",
              "      <td>48</td>\n",
              "    </tr>\n",
              "    <tr>\n",
              "      <th>1450</th>\n",
              "      <td>45</td>\n",
              "      <td>7</td>\n",
              "      <td>2.0</td>\n",
              "      <td>44</td>\n",
              "      <td>15</td>\n",
              "    </tr>\n",
              "  </tbody>\n",
              "</table>\n",
              "</div>\n",
              "      <button class=\"colab-df-convert\" onclick=\"convertToInteractive('df-221f9143-fe43-40e1-aa9a-6c022a366032')\"\n",
              "              title=\"Convert this dataframe to an interactive table.\"\n",
              "              style=\"display:none;\">\n",
              "        \n",
              "  <svg xmlns=\"http://www.w3.org/2000/svg\" height=\"24px\"viewBox=\"0 0 24 24\"\n",
              "       width=\"24px\">\n",
              "    <path d=\"M0 0h24v24H0V0z\" fill=\"none\"/>\n",
              "    <path d=\"M18.56 5.44l.94 2.06.94-2.06 2.06-.94-2.06-.94-.94-2.06-.94 2.06-2.06.94zm-11 1L8.5 8.5l.94-2.06 2.06-.94-2.06-.94L8.5 2.5l-.94 2.06-2.06.94zm10 10l.94 2.06.94-2.06 2.06-.94-2.06-.94-.94-2.06-.94 2.06-2.06.94z\"/><path d=\"M17.41 7.96l-1.37-1.37c-.4-.4-.92-.59-1.43-.59-.52 0-1.04.2-1.43.59L10.3 9.45l-7.72 7.72c-.78.78-.78 2.05 0 2.83L4 21.41c.39.39.9.59 1.41.59.51 0 1.02-.2 1.41-.59l7.78-7.78 2.81-2.81c.8-.78.8-2.07 0-2.86zM5.41 20L4 18.59l7.72-7.72 1.47 1.35L5.41 20z\"/>\n",
              "  </svg>\n",
              "      </button>\n",
              "      \n",
              "  <style>\n",
              "    .colab-df-container {\n",
              "      display:flex;\n",
              "      flex-wrap:wrap;\n",
              "      gap: 12px;\n",
              "    }\n",
              "\n",
              "    .colab-df-convert {\n",
              "      background-color: #E8F0FE;\n",
              "      border: none;\n",
              "      border-radius: 50%;\n",
              "      cursor: pointer;\n",
              "      display: none;\n",
              "      fill: #1967D2;\n",
              "      height: 32px;\n",
              "      padding: 0 0 0 0;\n",
              "      width: 32px;\n",
              "    }\n",
              "\n",
              "    .colab-df-convert:hover {\n",
              "      background-color: #E2EBFA;\n",
              "      box-shadow: 0px 1px 2px rgba(60, 64, 67, 0.3), 0px 1px 3px 1px rgba(60, 64, 67, 0.15);\n",
              "      fill: #174EA6;\n",
              "    }\n",
              "\n",
              "    [theme=dark] .colab-df-convert {\n",
              "      background-color: #3B4455;\n",
              "      fill: #D2E3FC;\n",
              "    }\n",
              "\n",
              "    [theme=dark] .colab-df-convert:hover {\n",
              "      background-color: #434B5C;\n",
              "      box-shadow: 0px 1px 3px 1px rgba(0, 0, 0, 0.15);\n",
              "      filter: drop-shadow(0px 1px 2px rgba(0, 0, 0, 0.3));\n",
              "      fill: #FFFFFF;\n",
              "    }\n",
              "  </style>\n",
              "\n",
              "      <script>\n",
              "        const buttonEl =\n",
              "          document.querySelector('#df-221f9143-fe43-40e1-aa9a-6c022a366032 button.colab-df-convert');\n",
              "        buttonEl.style.display =\n",
              "          google.colab.kernel.accessAllowed ? 'block' : 'none';\n",
              "\n",
              "        async function convertToInteractive(key) {\n",
              "          const element = document.querySelector('#df-221f9143-fe43-40e1-aa9a-6c022a366032');\n",
              "          const dataTable =\n",
              "            await google.colab.kernel.invokeFunction('convertToInteractive',\n",
              "                                                     [key], {});\n",
              "          if (!dataTable) return;\n",
              "\n",
              "          const docLinkHtml = 'Like what you see? Visit the ' +\n",
              "            '<a target=\"_blank\" href=https://colab.research.google.com/notebooks/data_table.ipynb>data table notebook</a>'\n",
              "            + ' to learn more about interactive tables.';\n",
              "          element.innerHTML = '';\n",
              "          dataTable['output_type'] = 'display_data';\n",
              "          await google.colab.output.renderOutput(dataTable, element);\n",
              "          const docLink = document.createElement('div');\n",
              "          docLink.innerHTML = docLinkHtml;\n",
              "          element.appendChild(docLink);\n",
              "        }\n",
              "      </script>\n",
              "    </div>\n",
              "  </div>\n",
              "  "
            ]
          },
          "metadata": {},
          "execution_count": 47
        }
      ],
      "source": [
        "# Shuffle the dataset\n",
        "df = df.sample(frac=1, random_state=42)\n",
        "df.head(5)"
      ]
    },
    {
      "cell_type": "code",
      "execution_count": null,
      "id": "eb8d6c7d",
      "metadata": {
        "id": "eb8d6c7d"
      },
      "outputs": [],
      "source": [
        "# ML Modelling Using RecommenderNet"
      ]
    },
    {
      "cell_type": "code",
      "execution_count": 48,
      "id": "b1ddac65",
      "metadata": {
        "id": "b1ddac65"
      },
      "outputs": [],
      "source": [
        "# Split train and test data\n",
        "\n",
        "# Create a variable x to match user and place data into one value\n",
        "x = df[['user', 'place']].values\n",
        " \n",
        "# Create a variable y to make a rating of the results \n",
        "y = df['Place_Ratings'].apply(lambda x: (x - min_rate) / (max_rate - min_rate)).values\n",
        " \n",
        "# Splits into 80% train data and 20% validation data\n",
        "train_indices = int(0.8 * df.shape[0])\n",
        "x_train, x_val, y_train, y_val = (\n",
        "    x[:train_indices],\n",
        "    x[train_indices:],\n",
        "    y[:train_indices],\n",
        "    y[train_indices:]\n",
        ")"
      ]
    },
    {
      "cell_type": "code",
      "execution_count": null,
      "id": "2070333f",
      "metadata": {
        "id": "2070333f"
      },
      "outputs": [],
      "source": [
        "# Preparing Modell"
      ]
    },
    {
      "cell_type": "code",
      "execution_count": 49,
      "id": "e9f56b1f",
      "metadata": {
        "id": "e9f56b1f"
      },
      "outputs": [],
      "source": [
        "class RecommenderNet(tf.keras.Model):\n",
        " \n",
        "  # Function initialization\n",
        "  def __init__(self, num_users, num_places, embedding_size, **kwargs):\n",
        "    super(RecommenderNet, self).__init__(**kwargs)\n",
        "    self.num_users = num_users\n",
        "    self.num_places = num_places\n",
        "    self.embedding_size = embedding_size\n",
        "    self.user_embedding = layers.Embedding( # layer embedding user\n",
        "        num_users,\n",
        "        embedding_size,\n",
        "        embeddings_initializer = 'he_normal',\n",
        "        embeddings_regularizer = keras.regularizers.l2(1e-6)\n",
        "    )\n",
        "    self.user_bias = layers.Embedding(num_users, 1) # layer embedding user bias\n",
        "    self.places_embedding = layers.Embedding( # layer embeddings places\n",
        "        num_places,\n",
        "        embedding_size,\n",
        "        embeddings_initializer = 'he_normal',\n",
        "        embeddings_regularizer = keras.regularizers.l2(1e-6)\n",
        "    )\n",
        "    self.places_bias = layers.Embedding(num_places, 1) # layer embedding places bias\n",
        " \n",
        "  def call(self, inputs):\n",
        "    user_vector = self.user_embedding(inputs[:,0]) # calling layer embedding 1\n",
        "    user_bias = self.user_bias(inputs[:, 0]) # calling layer embedding 2\n",
        "    places_vector = self.places_embedding(inputs[:, 1]) # calling layer embedding 3\n",
        "    places_bias = self.places_bias(inputs[:, 1]) # calling layer embedding 4\n",
        " \n",
        "    dot_user_places = tf.tensordot(user_vector, places_vector, 2) \n",
        " \n",
        "    x = dot_user_places + user_bias + places_bias\n",
        "    \n",
        "    return tf.nn.sigmoid(x) # activation sigmoid"
      ]
    },
    {
      "cell_type": "code",
      "execution_count": 50,
      "id": "34348326",
      "metadata": {
        "id": "34348326"
      },
      "outputs": [],
      "source": [
        "# Modell initialization\n",
        "model = RecommenderNet(num_users, num_place, 50) \n",
        " \n",
        "# model compile\n",
        "model.compile(\n",
        "    loss = tf.keras.losses.BinaryCrossentropy(),\n",
        "    optimizer = keras.optimizers.Adam(learning_rate=0.0004),\n",
        "    metrics=[tf.keras.metrics.RootMeanSquaredError()]\n",
        ")"
      ]
    },
    {
      "cell_type": "code",
      "execution_count": 51,
      "id": "555948d9",
      "metadata": {
        "id": "555948d9"
      },
      "outputs": [],
      "source": [
        "# Callbacks initialization\n",
        "class myCallback(tf.keras.callbacks.Callback):\n",
        "  def on_epoch_end(self, epoch, logs={}):\n",
        "    if(logs.get('val_root_mean_squared_error')<0.25):\n",
        "      print('Validation metric is as expected!')\n",
        "      self.model.stop_training = True"
      ]
    },
    {
      "cell_type": "code",
      "execution_count": null,
      "id": "75d5c9e1",
      "metadata": {
        "id": "75d5c9e1"
      },
      "outputs": [],
      "source": [
        "# Training Process"
      ]
    },
    {
      "cell_type": "code",
      "execution_count": 52,
      "id": "9379d12d",
      "metadata": {
        "colab": {
          "base_uri": "https://localhost:8080/"
        },
        "id": "9379d12d",
        "outputId": "379df9e7-871b-4b9b-c9ea-c11c34e45269"
      },
      "outputs": [
        {
          "output_type": "stream",
          "name": "stdout",
          "text": [
            "Epoch 1/100\n",
            "83/83 [==============================] - 2s 6ms/step - loss: 0.7972 - root_mean_squared_error: 0.3881 - val_loss: 0.7504 - val_root_mean_squared_error: 0.3663\n",
            "Epoch 2/100\n",
            "83/83 [==============================] - 0s 3ms/step - loss: 0.7951 - root_mean_squared_error: 0.3855 - val_loss: 0.7478 - val_root_mean_squared_error: 0.3647\n",
            "Epoch 3/100\n",
            "83/83 [==============================] - 0s 3ms/step - loss: 0.7877 - root_mean_squared_error: 0.3826 - val_loss: 0.7475 - val_root_mean_squared_error: 0.3643\n",
            "Epoch 4/100\n",
            "83/83 [==============================] - 0s 3ms/step - loss: 0.7974 - root_mean_squared_error: 0.3878 - val_loss: 0.7458 - val_root_mean_squared_error: 0.3634\n",
            "Epoch 5/100\n",
            "83/83 [==============================] - 0s 3ms/step - loss: 0.7737 - root_mean_squared_error: 0.3748 - val_loss: 0.7471 - val_root_mean_squared_error: 0.3643\n",
            "Epoch 6/100\n",
            "83/83 [==============================] - 0s 3ms/step - loss: 0.7946 - root_mean_squared_error: 0.3848 - val_loss: 0.7465 - val_root_mean_squared_error: 0.3639\n",
            "Epoch 7/100\n",
            "83/83 [==============================] - 0s 3ms/step - loss: 0.7950 - root_mean_squared_error: 0.3856 - val_loss: 0.7446 - val_root_mean_squared_error: 0.3627\n",
            "Epoch 8/100\n",
            "83/83 [==============================] - 0s 3ms/step - loss: 0.7655 - root_mean_squared_error: 0.3697 - val_loss: 0.7434 - val_root_mean_squared_error: 0.3619\n",
            "Epoch 9/100\n",
            "83/83 [==============================] - 0s 3ms/step - loss: 0.7725 - root_mean_squared_error: 0.3738 - val_loss: 0.7438 - val_root_mean_squared_error: 0.3621\n",
            "Epoch 10/100\n",
            "83/83 [==============================] - 0s 3ms/step - loss: 0.7835 - root_mean_squared_error: 0.3788 - val_loss: 0.7440 - val_root_mean_squared_error: 0.3622\n",
            "Epoch 11/100\n",
            "83/83 [==============================] - 0s 3ms/step - loss: 0.7978 - root_mean_squared_error: 0.3850 - val_loss: 0.7438 - val_root_mean_squared_error: 0.3620\n",
            "Epoch 12/100\n",
            "83/83 [==============================] - 0s 3ms/step - loss: 0.7621 - root_mean_squared_error: 0.3688 - val_loss: 0.7410 - val_root_mean_squared_error: 0.3602\n",
            "Epoch 13/100\n",
            "83/83 [==============================] - 0s 3ms/step - loss: 0.7580 - root_mean_squared_error: 0.3659 - val_loss: 0.7372 - val_root_mean_squared_error: 0.3578\n",
            "Epoch 14/100\n",
            "83/83 [==============================] - 0s 3ms/step - loss: 0.7777 - root_mean_squared_error: 0.3797 - val_loss: 0.7374 - val_root_mean_squared_error: 0.3581\n",
            "Epoch 15/100\n",
            "83/83 [==============================] - 0s 3ms/step - loss: 0.7460 - root_mean_squared_error: 0.3616 - val_loss: 0.7375 - val_root_mean_squared_error: 0.3581\n",
            "Epoch 16/100\n",
            "83/83 [==============================] - 0s 3ms/step - loss: 0.7525 - root_mean_squared_error: 0.3650 - val_loss: 0.7371 - val_root_mean_squared_error: 0.3578\n",
            "Epoch 17/100\n",
            "83/83 [==============================] - 0s 3ms/step - loss: 0.7669 - root_mean_squared_error: 0.3704 - val_loss: 0.7391 - val_root_mean_squared_error: 0.3590\n",
            "Epoch 18/100\n",
            "83/83 [==============================] - 0s 3ms/step - loss: 0.7505 - root_mean_squared_error: 0.3635 - val_loss: 0.7395 - val_root_mean_squared_error: 0.3591\n",
            "Epoch 19/100\n",
            "83/83 [==============================] - 0s 3ms/step - loss: 0.7578 - root_mean_squared_error: 0.3664 - val_loss: 0.7408 - val_root_mean_squared_error: 0.3599\n",
            "Epoch 20/100\n",
            "83/83 [==============================] - 0s 3ms/step - loss: 0.7705 - root_mean_squared_error: 0.3739 - val_loss: 0.7411 - val_root_mean_squared_error: 0.3600\n",
            "Epoch 21/100\n",
            "83/83 [==============================] - 0s 3ms/step - loss: 0.7458 - root_mean_squared_error: 0.3603 - val_loss: 0.7423 - val_root_mean_squared_error: 0.3606\n",
            "Epoch 22/100\n",
            "83/83 [==============================] - 0s 3ms/step - loss: 0.7518 - root_mean_squared_error: 0.3628 - val_loss: 0.7426 - val_root_mean_squared_error: 0.3608\n",
            "Epoch 23/100\n",
            "83/83 [==============================] - 0s 3ms/step - loss: 0.7332 - root_mean_squared_error: 0.3529 - val_loss: 0.7397 - val_root_mean_squared_error: 0.3592\n",
            "Epoch 24/100\n",
            "83/83 [==============================] - 0s 3ms/step - loss: 0.7319 - root_mean_squared_error: 0.3525 - val_loss: 0.7400 - val_root_mean_squared_error: 0.3593\n",
            "Epoch 25/100\n",
            "83/83 [==============================] - 0s 3ms/step - loss: 0.7350 - root_mean_squared_error: 0.3547 - val_loss: 0.7396 - val_root_mean_squared_error: 0.3591\n",
            "Epoch 26/100\n",
            "83/83 [==============================] - 0s 3ms/step - loss: 0.7237 - root_mean_squared_error: 0.3462 - val_loss: 0.7414 - val_root_mean_squared_error: 0.3601\n",
            "Epoch 27/100\n",
            "83/83 [==============================] - 0s 3ms/step - loss: 0.7306 - root_mean_squared_error: 0.3515 - val_loss: 0.7400 - val_root_mean_squared_error: 0.3590\n",
            "Epoch 28/100\n",
            "83/83 [==============================] - 0s 3ms/step - loss: 0.7256 - root_mean_squared_error: 0.3494 - val_loss: 0.7390 - val_root_mean_squared_error: 0.3584\n",
            "Epoch 29/100\n",
            "83/83 [==============================] - 0s 3ms/step - loss: 0.7136 - root_mean_squared_error: 0.3424 - val_loss: 0.7369 - val_root_mean_squared_error: 0.3571\n",
            "Epoch 30/100\n",
            "83/83 [==============================] - 0s 3ms/step - loss: 0.7172 - root_mean_squared_error: 0.3435 - val_loss: 0.7367 - val_root_mean_squared_error: 0.3571\n",
            "Epoch 31/100\n",
            "83/83 [==============================] - 0s 3ms/step - loss: 0.7182 - root_mean_squared_error: 0.3444 - val_loss: 0.7363 - val_root_mean_squared_error: 0.3568\n",
            "Epoch 32/100\n",
            "83/83 [==============================] - 0s 3ms/step - loss: 0.7194 - root_mean_squared_error: 0.3458 - val_loss: 0.7333 - val_root_mean_squared_error: 0.3551\n",
            "Epoch 33/100\n",
            "83/83 [==============================] - 0s 3ms/step - loss: 0.7167 - root_mean_squared_error: 0.3443 - val_loss: 0.7340 - val_root_mean_squared_error: 0.3555\n",
            "Epoch 34/100\n",
            "83/83 [==============================] - 0s 3ms/step - loss: 0.7171 - root_mean_squared_error: 0.3440 - val_loss: 0.7322 - val_root_mean_squared_error: 0.3543\n",
            "Epoch 35/100\n",
            "83/83 [==============================] - 0s 3ms/step - loss: 0.7131 - root_mean_squared_error: 0.3421 - val_loss: 0.7315 - val_root_mean_squared_error: 0.3537\n",
            "Epoch 36/100\n",
            "83/83 [==============================] - 0s 3ms/step - loss: 0.7257 - root_mean_squared_error: 0.3501 - val_loss: 0.7324 - val_root_mean_squared_error: 0.3542\n",
            "Epoch 37/100\n",
            "83/83 [==============================] - 0s 3ms/step - loss: 0.7042 - root_mean_squared_error: 0.3357 - val_loss: 0.7296 - val_root_mean_squared_error: 0.3525\n",
            "Epoch 38/100\n",
            "83/83 [==============================] - 0s 3ms/step - loss: 0.7040 - root_mean_squared_error: 0.3359 - val_loss: 0.7261 - val_root_mean_squared_error: 0.3504\n",
            "Epoch 39/100\n",
            "83/83 [==============================] - 0s 3ms/step - loss: 0.7042 - root_mean_squared_error: 0.3364 - val_loss: 0.7258 - val_root_mean_squared_error: 0.3502\n",
            "Epoch 40/100\n",
            "83/83 [==============================] - 0s 3ms/step - loss: 0.6970 - root_mean_squared_error: 0.3313 - val_loss: 0.7266 - val_root_mean_squared_error: 0.3507\n",
            "Epoch 41/100\n",
            "83/83 [==============================] - 0s 3ms/step - loss: 0.7096 - root_mean_squared_error: 0.3403 - val_loss: 0.7273 - val_root_mean_squared_error: 0.3512\n",
            "Epoch 42/100\n",
            "83/83 [==============================] - 0s 3ms/step - loss: 0.7009 - root_mean_squared_error: 0.3342 - val_loss: 0.7246 - val_root_mean_squared_error: 0.3494\n",
            "Epoch 43/100\n",
            "83/83 [==============================] - 0s 3ms/step - loss: 0.7029 - root_mean_squared_error: 0.3356 - val_loss: 0.7248 - val_root_mean_squared_error: 0.3495\n",
            "Epoch 44/100\n",
            "83/83 [==============================] - 0s 3ms/step - loss: 0.6990 - root_mean_squared_error: 0.3327 - val_loss: 0.7226 - val_root_mean_squared_error: 0.3481\n",
            "Epoch 45/100\n",
            "83/83 [==============================] - 0s 3ms/step - loss: 0.7185 - root_mean_squared_error: 0.3455 - val_loss: 0.7237 - val_root_mean_squared_error: 0.3488\n",
            "Epoch 46/100\n",
            "83/83 [==============================] - 0s 3ms/step - loss: 0.6997 - root_mean_squared_error: 0.3330 - val_loss: 0.7237 - val_root_mean_squared_error: 0.3488\n",
            "Epoch 47/100\n",
            "83/83 [==============================] - 0s 3ms/step - loss: 0.6986 - root_mean_squared_error: 0.3319 - val_loss: 0.7211 - val_root_mean_squared_error: 0.3472\n",
            "Epoch 48/100\n",
            "83/83 [==============================] - 0s 3ms/step - loss: 0.6992 - root_mean_squared_error: 0.3329 - val_loss: 0.7211 - val_root_mean_squared_error: 0.3472\n",
            "Epoch 49/100\n",
            "83/83 [==============================] - 0s 3ms/step - loss: 0.6922 - root_mean_squared_error: 0.3281 - val_loss: 0.7217 - val_root_mean_squared_error: 0.3476\n",
            "Epoch 50/100\n",
            "83/83 [==============================] - 0s 3ms/step - loss: 0.7000 - root_mean_squared_error: 0.3322 - val_loss: 0.7220 - val_root_mean_squared_error: 0.3477\n",
            "Epoch 51/100\n",
            "83/83 [==============================] - 0s 4ms/step - loss: 0.6952 - root_mean_squared_error: 0.3300 - val_loss: 0.7216 - val_root_mean_squared_error: 0.3474\n",
            "Epoch 52/100\n",
            "83/83 [==============================] - 0s 4ms/step - loss: 0.6934 - root_mean_squared_error: 0.3279 - val_loss: 0.7219 - val_root_mean_squared_error: 0.3476\n",
            "Epoch 53/100\n",
            "83/83 [==============================] - 0s 3ms/step - loss: 0.6987 - root_mean_squared_error: 0.3327 - val_loss: 0.7228 - val_root_mean_squared_error: 0.3482\n",
            "Epoch 54/100\n",
            "83/83 [==============================] - 0s 3ms/step - loss: 0.6989 - root_mean_squared_error: 0.3324 - val_loss: 0.7227 - val_root_mean_squared_error: 0.3482\n",
            "Epoch 55/100\n",
            "83/83 [==============================] - 0s 3ms/step - loss: 0.6948 - root_mean_squared_error: 0.3298 - val_loss: 0.7240 - val_root_mean_squared_error: 0.3490\n",
            "Epoch 56/100\n",
            "83/83 [==============================] - 0s 3ms/step - loss: 0.6923 - root_mean_squared_error: 0.3281 - val_loss: 0.7239 - val_root_mean_squared_error: 0.3490\n",
            "Epoch 57/100\n",
            "83/83 [==============================] - 0s 3ms/step - loss: 0.6884 - root_mean_squared_error: 0.3248 - val_loss: 0.7255 - val_root_mean_squared_error: 0.3500\n",
            "Epoch 58/100\n",
            "83/83 [==============================] - 0s 3ms/step - loss: 0.6860 - root_mean_squared_error: 0.3236 - val_loss: 0.7232 - val_root_mean_squared_error: 0.3485\n",
            "Epoch 59/100\n",
            "83/83 [==============================] - 0s 3ms/step - loss: 0.6952 - root_mean_squared_error: 0.3297 - val_loss: 0.7215 - val_root_mean_squared_error: 0.3473\n",
            "Epoch 60/100\n",
            "83/83 [==============================] - 0s 3ms/step - loss: 0.6930 - root_mean_squared_error: 0.3288 - val_loss: 0.7194 - val_root_mean_squared_error: 0.3461\n",
            "Epoch 61/100\n",
            "83/83 [==============================] - 0s 3ms/step - loss: 0.6873 - root_mean_squared_error: 0.3245 - val_loss: 0.7207 - val_root_mean_squared_error: 0.3468\n",
            "Epoch 62/100\n",
            "83/83 [==============================] - 0s 3ms/step - loss: 0.6882 - root_mean_squared_error: 0.3252 - val_loss: 0.7229 - val_root_mean_squared_error: 0.3482\n",
            "Epoch 63/100\n",
            "83/83 [==============================] - 0s 4ms/step - loss: 0.6867 - root_mean_squared_error: 0.3239 - val_loss: 0.7227 - val_root_mean_squared_error: 0.3480\n",
            "Epoch 64/100\n",
            "83/83 [==============================] - 0s 3ms/step - loss: 0.6857 - root_mean_squared_error: 0.3235 - val_loss: 0.7205 - val_root_mean_squared_error: 0.3466\n",
            "Epoch 65/100\n",
            "83/83 [==============================] - 0s 3ms/step - loss: 0.6827 - root_mean_squared_error: 0.3210 - val_loss: 0.7189 - val_root_mean_squared_error: 0.3456\n",
            "Epoch 66/100\n",
            "83/83 [==============================] - 0s 3ms/step - loss: 0.6821 - root_mean_squared_error: 0.3207 - val_loss: 0.7165 - val_root_mean_squared_error: 0.3440\n",
            "Epoch 67/100\n",
            "83/83 [==============================] - 0s 3ms/step - loss: 0.6821 - root_mean_squared_error: 0.3207 - val_loss: 0.7149 - val_root_mean_squared_error: 0.3429\n",
            "Epoch 68/100\n",
            "83/83 [==============================] - 0s 3ms/step - loss: 0.6822 - root_mean_squared_error: 0.3208 - val_loss: 0.7160 - val_root_mean_squared_error: 0.3435\n",
            "Epoch 69/100\n",
            "83/83 [==============================] - 0s 3ms/step - loss: 0.6857 - root_mean_squared_error: 0.3233 - val_loss: 0.7153 - val_root_mean_squared_error: 0.3431\n",
            "Epoch 70/100\n",
            "83/83 [==============================] - 0s 3ms/step - loss: 0.6862 - root_mean_squared_error: 0.3236 - val_loss: 0.7157 - val_root_mean_squared_error: 0.3432\n",
            "Epoch 71/100\n",
            "83/83 [==============================] - 0s 3ms/step - loss: 0.6793 - root_mean_squared_error: 0.3186 - val_loss: 0.7162 - val_root_mean_squared_error: 0.3436\n",
            "Epoch 72/100\n",
            "83/83 [==============================] - 0s 3ms/step - loss: 0.6815 - root_mean_squared_error: 0.3201 - val_loss: 0.7168 - val_root_mean_squared_error: 0.3440\n",
            "Epoch 73/100\n",
            "83/83 [==============================] - 0s 3ms/step - loss: 0.6758 - root_mean_squared_error: 0.3160 - val_loss: 0.7159 - val_root_mean_squared_error: 0.3434\n",
            "Epoch 74/100\n",
            "83/83 [==============================] - 0s 3ms/step - loss: 0.6798 - root_mean_squared_error: 0.3189 - val_loss: 0.7154 - val_root_mean_squared_error: 0.3431\n",
            "Epoch 75/100\n",
            "83/83 [==============================] - 0s 3ms/step - loss: 0.6856 - root_mean_squared_error: 0.3234 - val_loss: 0.7149 - val_root_mean_squared_error: 0.3426\n",
            "Epoch 76/100\n",
            "83/83 [==============================] - 0s 3ms/step - loss: 0.6800 - root_mean_squared_error: 0.3190 - val_loss: 0.7133 - val_root_mean_squared_error: 0.3416\n",
            "Epoch 77/100\n",
            "83/83 [==============================] - 0s 3ms/step - loss: 0.6746 - root_mean_squared_error: 0.3151 - val_loss: 0.7131 - val_root_mean_squared_error: 0.3414\n",
            "Epoch 78/100\n",
            "83/83 [==============================] - 0s 3ms/step - loss: 0.6765 - root_mean_squared_error: 0.3166 - val_loss: 0.7124 - val_root_mean_squared_error: 0.3410\n",
            "Epoch 79/100\n",
            "83/83 [==============================] - 0s 3ms/step - loss: 0.6800 - root_mean_squared_error: 0.3191 - val_loss: 0.7116 - val_root_mean_squared_error: 0.3405\n",
            "Epoch 80/100\n",
            "83/83 [==============================] - 0s 3ms/step - loss: 0.6763 - root_mean_squared_error: 0.3163 - val_loss: 0.7111 - val_root_mean_squared_error: 0.3402\n",
            "Epoch 81/100\n",
            "83/83 [==============================] - 0s 3ms/step - loss: 0.6764 - root_mean_squared_error: 0.3164 - val_loss: 0.7106 - val_root_mean_squared_error: 0.3399\n",
            "Epoch 82/100\n",
            "83/83 [==============================] - 0s 3ms/step - loss: 0.6816 - root_mean_squared_error: 0.3204 - val_loss: 0.7106 - val_root_mean_squared_error: 0.3398\n",
            "Epoch 83/100\n",
            "83/83 [==============================] - 0s 3ms/step - loss: 0.6753 - root_mean_squared_error: 0.3157 - val_loss: 0.7120 - val_root_mean_squared_error: 0.3408\n",
            "Epoch 84/100\n",
            "83/83 [==============================] - 0s 3ms/step - loss: 0.6769 - root_mean_squared_error: 0.3168 - val_loss: 0.7110 - val_root_mean_squared_error: 0.3400\n",
            "Epoch 85/100\n",
            "83/83 [==============================] - 0s 3ms/step - loss: 0.6747 - root_mean_squared_error: 0.3153 - val_loss: 0.7109 - val_root_mean_squared_error: 0.3400\n",
            "Epoch 86/100\n",
            "83/83 [==============================] - 0s 3ms/step - loss: 0.6795 - root_mean_squared_error: 0.3189 - val_loss: 0.7106 - val_root_mean_squared_error: 0.3399\n",
            "Epoch 87/100\n",
            "83/83 [==============================] - 0s 3ms/step - loss: 0.6769 - root_mean_squared_error: 0.3169 - val_loss: 0.7108 - val_root_mean_squared_error: 0.3400\n",
            "Epoch 88/100\n",
            "83/83 [==============================] - 0s 3ms/step - loss: 0.6773 - root_mean_squared_error: 0.3171 - val_loss: 0.7097 - val_root_mean_squared_error: 0.3392\n",
            "Epoch 89/100\n",
            "83/83 [==============================] - 0s 4ms/step - loss: 0.6738 - root_mean_squared_error: 0.3146 - val_loss: 0.7109 - val_root_mean_squared_error: 0.3400\n",
            "Epoch 90/100\n",
            "83/83 [==============================] - 0s 3ms/step - loss: 0.6726 - root_mean_squared_error: 0.3137 - val_loss: 0.7104 - val_root_mean_squared_error: 0.3397\n",
            "Epoch 91/100\n",
            "83/83 [==============================] - 0s 3ms/step - loss: 0.6719 - root_mean_squared_error: 0.3131 - val_loss: 0.7114 - val_root_mean_squared_error: 0.3403\n",
            "Epoch 92/100\n",
            "83/83 [==============================] - 0s 3ms/step - loss: 0.6735 - root_mean_squared_error: 0.3143 - val_loss: 0.7115 - val_root_mean_squared_error: 0.3404\n",
            "Epoch 93/100\n",
            "83/83 [==============================] - 0s 4ms/step - loss: 0.6752 - root_mean_squared_error: 0.3156 - val_loss: 0.7119 - val_root_mean_squared_error: 0.3407\n",
            "Epoch 94/100\n",
            "83/83 [==============================] - 0s 4ms/step - loss: 0.6730 - root_mean_squared_error: 0.3138 - val_loss: 0.7120 - val_root_mean_squared_error: 0.3407\n",
            "Epoch 95/100\n",
            "83/83 [==============================] - 0s 4ms/step - loss: 0.6745 - root_mean_squared_error: 0.3151 - val_loss: 0.7122 - val_root_mean_squared_error: 0.3409\n",
            "Epoch 96/100\n",
            "83/83 [==============================] - 0s 4ms/step - loss: 0.6778 - root_mean_squared_error: 0.3174 - val_loss: 0.7108 - val_root_mean_squared_error: 0.3400\n",
            "Epoch 97/100\n",
            "83/83 [==============================] - 0s 5ms/step - loss: 0.6706 - root_mean_squared_error: 0.3122 - val_loss: 0.7097 - val_root_mean_squared_error: 0.3393\n",
            "Epoch 98/100\n",
            "83/83 [==============================] - 0s 5ms/step - loss: 0.6698 - root_mean_squared_error: 0.3115 - val_loss: 0.7099 - val_root_mean_squared_error: 0.3394\n",
            "Epoch 99/100\n",
            "83/83 [==============================] - 0s 5ms/step - loss: 0.6719 - root_mean_squared_error: 0.3130 - val_loss: 0.7101 - val_root_mean_squared_error: 0.3395\n",
            "Epoch 100/100\n",
            "83/83 [==============================] - 0s 4ms/step - loss: 0.6719 - root_mean_squared_error: 0.3129 - val_loss: 0.7098 - val_root_mean_squared_error: 0.3394\n"
          ]
        }
      ],
      "source": [
        "# Start training\n",
        " \n",
        "history = model.fit(\n",
        "    x = x_train,\n",
        "    y = y_train,\n",
        "    epochs = 100,\n",
        "    validation_data = (x_val, y_val),\n",
        "    callbacks = [myCallback()]\n",
        ")"
      ]
    },
    {
      "cell_type": "code",
      "execution_count": 53,
      "id": "abb883c0",
      "metadata": {
        "colab": {
          "base_uri": "https://localhost:8080/",
          "height": 301
        },
        "id": "abb883c0",
        "outputId": "b28f4913-34c0-4368-801c-4e07a5383cc9"
      },
      "outputs": [
        {
          "output_type": "display_data",
          "data": {
            "text/plain": [
              "<Figure size 432x288 with 1 Axes>"
            ],
            "image/png": "[encoded data removed]"
          },
          "metadata": {
            "needs_background": "light"
          }
        }
      ],
      "source": [
        "# Display loss plots and validation\n",
        "\n",
        "plt.plot(history.history['root_mean_squared_error'])\n",
        "plt.plot(history.history['val_root_mean_squared_error'])\n",
        "plt.title('model_metrics')\n",
        "plt.ylabel('root_mean_squared_error')\n",
        "plt.xlabel('epoch')\n",
        "plt.ylim(ymin=0, ymax=0.4)\n",
        "plt.legend(['train', 'test'], loc='center left')\n",
        "plt.show()"
      ]
    },
    {
      "cell_type": "code",
      "execution_count": null,
      "id": "c384b95a",
      "metadata": {
        "id": "c384b95a"
      },
      "outputs": [],
      "source": [
        "# Predict top 5 Recommendation"
      ]
    },
    {
      "cell_type": "code",
      "execution_count": 54,
      "id": "949f1111",
      "metadata": {
        "id": "949f1111"
      },
      "outputs": [],
      "source": [
        "# Setting Up a DataFrame to Display Recommended Results\n",
        "\n",
        "# Preapring dataframe\n",
        "place_df = place[['Place_Id','Place_Name','Category','Rating','Price']]\n",
        "place_df.columns = ['id','place_name','category','rating','price']\n",
        "df = rate.copy()"
      ]
    },
    {
      "cell_type": "code",
      "execution_count": null,
      "id": "5f11eff1",
      "metadata": {
        "id": "5f11eff1"
      },
      "outputs": [],
      "source": [
        "# Setting up User samples to Show Recommendations"
      ]
    },
    {
      "cell_type": "code",
      "execution_count": 55,
      "id": "0e5db288",
      "metadata": {
        "id": "0e5db288"
      },
      "outputs": [],
      "source": [
        "# Looking for user\n",
        "# Take sample user\n",
        "user_id = df.User_Id.sample(1).iloc[0]\n",
        "place_visited_by_user = df[df.User_Id == user_id]"
      ]
    },
    {
      "cell_type": "code",
      "execution_count": null,
      "id": "f9f44c85",
      "metadata": {
        "id": "f9f44c85"
      },
      "outputs": [],
      "source": [
        "# Searching for Locations that the User hasn't Visited"
      ]
    },
    {
      "cell_type": "code",
      "execution_count": 56,
      "id": "c5d06f11",
      "metadata": {
        "id": "c5d06f11"
      },
      "outputs": [],
      "source": [
        "# Create location data that has not been visited by the user\n",
        "place_not_visited = place_df[~place_df['id'].isin(place_visited_by_user.Place_Id.values)]['id'] \n",
        "place_not_visited = list(\n",
        "    set(place_not_visited)\n",
        "    .intersection(set(place_to_place_encoded.keys()))\n",
        ")\n",
        " \n",
        "place_not_visited = [[place_to_place_encoded.get(x)] for x in place_not_visited]\n",
        "user_encoder = user_to_user_encoded.get(user_id)\n",
        "user_place_array = np.hstack(\n",
        "    ([[user_encoder]] * len(place_not_visited), place_not_visited)\n",
        ")"
      ]
    },
    {
      "cell_type": "code",
      "execution_count": null,
      "id": "748938b7",
      "metadata": {
        "id": "748938b7"
      },
      "outputs": [],
      "source": [
        "# Displaying Recommendation Results for Users"
      ]
    },
    {
      "cell_type": "code",
      "execution_count": 57,
      "id": "ed2181ee",
      "metadata": {
        "colab": {
          "base_uri": "https://localhost:8080/"
        },
        "id": "ed2181ee",
        "outputId": "9cbd2a3e-b53b-4d09-ffdf-8b8fd71375b3"
      },
      "outputs": [
        {
          "output_type": "stream",
          "name": "stdout",
          "text": [
            "List of Recommendation for: User 29\n",
            "============================================= \n",
            "\n",
            "------------------------------------------------------------\n",
            "The place with the highest travel rating from users\n",
            "------------------------------------------------------------\n",
            "Pantai Karang Jahe : Wisata Bahari\n",
            "Lawang Sewu : Wisata Sejarah\n",
            "Candi Prambanan : Wisata Sejarah\n",
            "Taman Nasional Karimunjawa : Wisata Cagar Alam/Konservasi dan Pertanian\n",
            "Cagar Alam Telogo Ranjeng : Wisata Cagar Alam/Konservasi dan Pertanian\n",
            "\n",
            "------------------------------------------------------------\n",
            "Top 5 Recommendation\n",
            "------------------------------------------------------------\n",
            "1 . Pantai Menganti \n",
            "     Wisata Bahari , Price of admission :  10000 , Travel Rating :  4.6 \n",
            "\n",
            "2 . Taman Wisata Air Panas Guci \n",
            "     Wisata Alam , Price of admission :  20000 , Travel Rating :  4.5 \n",
            "\n",
            "3 . Masjid Agung Jawa Tengah \n",
            "     Wisata Sejarah , Price of admission :  0 , Travel Rating :  4.7 \n",
            "\n",
            "4 . Pasar Semawis  \n",
            "      Wisata Belanja dan Kuliner , Price of admission :  0 , Travel Rating :  4.5 \n",
            "\n",
            "5 . Pasar Klewer \n",
            "      Wisata Belanja dan Kuliner , Price of admission :  0 , Travel Rating :  4.4 \n",
            "\n",
            "=============================================\n"
          ]
        }
      ],
      "source": [
        "# Take top 5 recommendation\n",
        "ratings = model.predict(user_place_array).flatten()\n",
        "top_ratings_indices = ratings.argsort()[-5:][::-1]\n",
        "recommended_place_ids = [\n",
        "    place_encoded_to_place.get(place_not_visited[x][0]) for x in top_ratings_indices\n",
        "]\n",
        " \n",
        "print('List of Recommendation for: {}'.format('User ' + str(user_id)))\n",
        "print('===' * 15,'\\n')\n",
        "print('----' * 15)\n",
        "print('The place with the highest travel rating from users')\n",
        "print('----' * 15)\n",
        " \n",
        "top_place_user = (\n",
        "    place_visited_by_user.sort_values(\n",
        "        by = 'Place_Ratings',\n",
        "        ascending=False\n",
        "    )\n",
        "    .head(5)\n",
        "    .Place_Id.values\n",
        ")\n",
        " \n",
        "place_df_rows = place_df[place_df['id'].isin(top_place_user)]\n",
        "for row in place_df_rows.itertuples():\n",
        "    print(row.place_name, ':', row.category)\n",
        "\n",
        "print('')\n",
        "print('----' * 15)\n",
        "print('Top 5 Recommendation')\n",
        "print('----' * 15)\n",
        " \n",
        "recommended_place = place_df[place_df['id'].isin(recommended_place_ids)]\n",
        "for row, i in zip(recommended_place.itertuples(), range(1,8)):\n",
        "    print(i,'.', row.place_name, '\\n    ', row.category, ',', 'Price of admission : ', row.price, ',', 'Travel Rating : ', row.rating,'\\n')\n",
        "\n",
        "print('==='*15)"
      ]
    },
    {
      "cell_type": "code",
      "execution_count": null,
      "id": "54fb82cd",
      "metadata": {
        "id": "54fb82cd"
      },
      "outputs": [],
      "source": [
        "#generate a saved model"
      ]
    },
    {
      "cell_type": "code",
      "execution_count": 58,
      "id": "55f322da",
      "metadata": {
        "id": "55f322da"
      },
      "outputs": [],
      "source": [
        "import pathlib\n",
        "from tensorflow.keras.models import Model\n",
        "from tensorflow.keras.layers import Input"
      ]
    },
    {
      "cell_type": "code",
      "execution_count": 59,
      "id": "625a240c",
      "metadata": {
        "colab": {
          "base_uri": "https://localhost:8080/"
        },
        "id": "625a240c",
        "outputId": "b176f21d-cbe5-409e-9c32-b44bf01472f4"
      },
      "outputs": [
        {
          "output_type": "stream",
          "name": "stdout",
          "text": [
            "INFO:tensorflow:Assets written to: saved_model/1/assets\n"
          ]
        }
      ],
      "source": [
        "export_dir = 'saved_model/1'\n",
        "tf.saved_model.save(model, export_dir)"
      ]
    },
    {
      "cell_type": "code",
      "execution_count": 60,
      "id": "d44f19a1",
      "metadata": {
        "colab": {
          "base_uri": "https://localhost:8080/"
        },
        "id": "d44f19a1",
        "outputId": "5655cc9d-5bf1-495c-a245-96d4de1bdb67"
      },
      "outputs": [
        {
          "output_type": "stream",
          "name": "stderr",
          "text": [
            "WARNING:absl:Buffer deduplication procedure will be skipped when flatbuffer library is not properly loaded\n"
          ]
        }
      ],
      "source": [
        "# Convert the model.\n",
        "converter = tf.lite.TFLiteConverter.from_saved_model(export_dir)\n",
        "tflite_model = converter.convert()"
      ]
    },
    {
      "cell_type": "code",
      "execution_count": 61,
      "id": "71ddbf6d",
      "metadata": {
        "colab": {
          "base_uri": "https://localhost:8080/"
        },
        "id": "71ddbf6d",
        "outputId": "49128281-3248-4bee-9a2b-f44965329921"
      },
      "outputs": [
        {
          "output_type": "execute_result",
          "data": {
            "text/plain": [
              "38888"
            ]
          },
          "metadata": {},
          "execution_count": 61
        }
      ],
      "source": [
        "tflite_model_file = pathlib.Path('model.tflite')\n",
        "tflite_model_file.write_bytes(tflite_model)"
      ]
    },
    {
      "cell_type": "code",
      "execution_count": 62,
      "id": "481b5781",
      "metadata": {
        "id": "481b5781"
      },
      "outputs": [],
      "source": [
        "# Load TFLite model and allocate tensors.\n",
        "interpreter = tf.lite.Interpreter(model_content=tflite_model)\n",
        "interpreter.allocate_tensors()\n",
        "\n",
        "# Get input and output tensors.\n",
        "input_details = interpreter.get_input_details()\n",
        "output_details = interpreter.get_output_details()"
      ]
    },
    {
      "cell_type": "code",
      "execution_count": 68,
      "id": "ee17f14b",
      "metadata": {
        "colab": {
          "base_uri": "https://localhost:8080/",
          "height": 17
        },
        "id": "ee17f14b",
        "outputId": "cbe41489-89b7-4644-8b8e-a32e9cba106e"
      },
      "outputs": [
        {
          "output_type": "display_data",
          "data": {
            "text/plain": [
              "<IPython.core.display.Javascript object>"
            ],
            "application/javascript": [
              "\n",
              "    async function download(id, filename, size) {\n",
              "      if (!google.colab.kernel.accessAllowed) {\n",
              "        return;\n",
              "      }\n",
              "      const div = document.createElement('div');\n",
              "      const label = document.createElement('label');\n",
              "      label.textContent = `Downloading \"${filename}\": `;\n",
              "      div.appendChild(label);\n",
              "      const progress = document.createElement('progress');\n",
              "      progress.max = size;\n",
              "      div.appendChild(progress);\n",
              "      document.body.appendChild(div);\n",
              "\n",
              "      const buffers = [];\n",
              "      let downloaded = 0;\n",
              "\n",
              "      const channel = await google.colab.kernel.comms.open(id);\n",
              "      // Send a message to notify the kernel that we're ready.\n",
              "      channel.send({})\n",
              "\n",
              "      for await (const message of channel.messages) {\n",
              "        // Send a message to notify the kernel that we're ready.\n",
              "        channel.send({})\n",
              "        if (message.buffers) {\n",
              "          for (const buffer of message.buffers) {\n",
              "            buffers.push(buffer);\n",
              "            downloaded += buffer.byteLength;\n",
              "            progress.value = downloaded;\n",
              "          }\n",
              "        }\n",
              "      }\n",
              "      const blob = new Blob(buffers, {type: 'application/binary'});\n",
              "      const a = document.createElement('a');\n",
              "      a.href = window.URL.createObjectURL(blob);\n",
              "      a.download = filename;\n",
              "      div.appendChild(a);\n",
              "      a.click();\n",
              "      div.remove();\n",
              "    }\n",
              "  "
            ]
          },
          "metadata": {}
        },
        {
          "output_type": "display_data",
          "data": {
            "text/plain": [
              "<IPython.core.display.Javascript object>"
            ],
            "application/javascript": [
              "download(\"download_4ff45869-c9d1-44a3-8239-2bd7eaff9ce0\", \"model.tflite\", 38888)"
            ]
          },
          "metadata": {}
        }
      ],
      "source": [
        "try:\n",
        "  from google.colab import files\n",
        "  files.download(tflite_model_file)\n",
        "except:\n",
        "  pass"
      ]
    },
    {
      "cell_type": "code",
      "execution_count": null,
      "id": "0e6e815b",
      "metadata": {
        "id": "0e6e815b"
      },
      "outputs": [],
      "source": [
        ""
      ]
    }
  ],
  "metadata": {
    "kernelspec": {
      "display_name": "Python 3",
      "language": "python",
      "name": "python3"
    },
    "language_info": {
      "codemirror_mode": {
        "name": "ipython",
        "version": 3
      },
      "file_extension": ".py",
      "mimetype": "text/x-python",
      "name": "python",
      "nbconvert_exporter": "python",
      "pygments_lexer": "ipython3",
      "version": "3.8.8"
    },
    "colab": {
      "name": "Recommendation Model Fix (1).ipynb",
      "provenance": []
    }
  },
  "nbformat": 4,
  "nbformat_minor": 5
}